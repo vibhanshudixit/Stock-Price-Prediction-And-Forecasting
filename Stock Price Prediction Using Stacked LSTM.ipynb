{
 "cells": [
  {
   "cell_type": "markdown",
   "id": "ea95fad4-d35e-42d3-aca0-8332808e24b3",
   "metadata": {},
   "source": [
    "STEPS WE WILL FOLLOW:\n",
    "1. We will collect the stock data for AAPL\n",
    "2. preprocess the data i.e. train and test split\n",
    "3. Create a Stacked LSTM model\n",
    "4. Predict the test data and plot the output\n",
    "5. Predict the future 30 days and plot the output "
   ]
  },
  {
   "cell_type": "code",
   "execution_count": 2,
   "id": "39087d34-8114-4d16-a297-9ccacfbbbbc9",
   "metadata": {},
   "outputs": [],
   "source": [
    "import pandas as pd\n",
    "import pandas_datareader as pdr\n",
    "from pandas_datareader import data as pdr\n",
    "import datetime as dt"
   ]
  },
  {
   "cell_type": "code",
   "execution_count": 3,
   "id": "6fd13ef2-e773-41f7-ac3c-09273dd26e3b",
   "metadata": {
    "scrolled": true
   },
   "outputs": [],
   "source": [
    "#!pip install yfinance"
   ]
  },
  {
   "cell_type": "code",
   "execution_count": 4,
   "id": "cf29d3e9-2eca-49c4-9461-d1e6a501d9c5",
   "metadata": {},
   "outputs": [],
   "source": [
    "import yfinance as yf"
   ]
  },
  {
   "cell_type": "markdown",
   "id": "64222dd3-1e0e-4382-991d-23b5e408566b",
   "metadata": {},
   "source": [
    "## STEP-1 Collect the stock data for AAPL"
   ]
  },
  {
   "cell_type": "code",
   "execution_count": 6,
   "id": "f1b8931c-1a24-43f5-b94f-e9a2855e0747",
   "metadata": {},
   "outputs": [
    {
     "data": {
      "text/plain": [
       "(datetime.datetime(2011, 3, 18, 20, 31, 57, 167681),\n",
       " datetime.datetime(2024, 11, 24, 20, 31, 57, 167681))"
      ]
     },
     "execution_count": 6,
     "metadata": {},
     "output_type": "execute_result"
    }
   ],
   "source": [
    "end = dt.datetime.now()\n",
    "start = end - dt.timedelta(days=5000)\n",
    "#start = dt.datetime(2015,1,1)\n",
    "#start = dt.datetime(2000,1,1) #for getting all the data from 2000 onwards\n",
    "start, end"
   ]
  },
  {
   "cell_type": "code",
   "execution_count": 7,
   "id": "eb385160-17f4-48c5-8edc-501ef6ed4a73",
   "metadata": {},
   "outputs": [
    {
     "data": {
      "text/plain": [
       "['AAPL']"
      ]
     },
     "execution_count": 7,
     "metadata": {},
     "output_type": "execute_result"
    }
   ],
   "source": [
    "stocklist = ['AAPL']\n",
    "#stocks = [i + '.AX' for i in stocklist]\n",
    "stocklist"
   ]
  },
  {
   "cell_type": "code",
   "execution_count": 8,
   "id": "cb062a5f-b1a5-44c8-ba3c-32d0df00f371",
   "metadata": {
    "scrolled": true
   },
   "outputs": [],
   "source": [
    "#df = pdr.get_data_yahoo(stocks, start, end)"
   ]
  },
  {
   "cell_type": "code",
   "execution_count": 9,
   "id": "a69bf198-0611-437c-8dd3-158b3ae2166a",
   "metadata": {
    "scrolled": true
   },
   "outputs": [],
   "source": [
    "#pdr.DataReader(stocks,'yahoo',start,end)"
   ]
  },
  {
   "cell_type": "code",
   "execution_count": 10,
   "id": "1102f50f-6fb0-4227-aa8f-30771d487ccd",
   "metadata": {},
   "outputs": [
    {
     "name": "stderr",
     "output_type": "stream",
     "text": [
      "[*********************100%***********************]  1 of 1 completed\n"
     ]
    }
   ],
   "source": [
    "df = yf.download(stocklist, start=start, end=end)"
   ]
  },
  {
   "cell_type": "code",
   "execution_count": 11,
   "id": "7024b0a2-c4e8-4f30-9f61-664dbc906edb",
   "metadata": {},
   "outputs": [
    {
     "data": {
      "text/html": [
       "<div>\n",
       "<style scoped>\n",
       "    .dataframe tbody tr th:only-of-type {\n",
       "        vertical-align: middle;\n",
       "    }\n",
       "\n",
       "    .dataframe tbody tr th {\n",
       "        vertical-align: top;\n",
       "    }\n",
       "\n",
       "    .dataframe thead tr th {\n",
       "        text-align: left;\n",
       "    }\n",
       "\n",
       "    .dataframe thead tr:last-of-type th {\n",
       "        text-align: right;\n",
       "    }\n",
       "</style>\n",
       "<table border=\"1\" class=\"dataframe\">\n",
       "  <thead>\n",
       "    <tr>\n",
       "      <th>Price</th>\n",
       "      <th>Adj Close</th>\n",
       "      <th>Close</th>\n",
       "      <th>High</th>\n",
       "      <th>Low</th>\n",
       "      <th>Open</th>\n",
       "      <th>Volume</th>\n",
       "    </tr>\n",
       "    <tr>\n",
       "      <th>Ticker</th>\n",
       "      <th>AAPL</th>\n",
       "      <th>AAPL</th>\n",
       "      <th>AAPL</th>\n",
       "      <th>AAPL</th>\n",
       "      <th>AAPL</th>\n",
       "      <th>AAPL</th>\n",
       "    </tr>\n",
       "    <tr>\n",
       "      <th>Date</th>\n",
       "      <th></th>\n",
       "      <th></th>\n",
       "      <th></th>\n",
       "      <th></th>\n",
       "      <th></th>\n",
       "      <th></th>\n",
       "    </tr>\n",
       "  </thead>\n",
       "  <tbody>\n",
       "    <tr>\n",
       "      <th>2011-03-21</th>\n",
       "      <td>10.221982</td>\n",
       "      <td>12.117857</td>\n",
       "      <td>12.133571</td>\n",
       "      <td>11.973571</td>\n",
       "      <td>11.999643</td>\n",
       "      <td>409402000</td>\n",
       "    </tr>\n",
       "    <tr>\n",
       "      <th>2011-03-22</th>\n",
       "      <td>10.279226</td>\n",
       "      <td>12.185714</td>\n",
       "      <td>12.236429</td>\n",
       "      <td>12.112143</td>\n",
       "      <td>12.234286</td>\n",
       "      <td>325922800</td>\n",
       "    </tr>\n",
       "    <tr>\n",
       "      <th>2011-03-23</th>\n",
       "      <td>10.218669</td>\n",
       "      <td>12.113929</td>\n",
       "      <td>12.150714</td>\n",
       "      <td>11.998214</td>\n",
       "      <td>12.117143</td>\n",
       "      <td>372996400</td>\n",
       "    </tr>\n",
       "    <tr>\n",
       "      <th>2011-03-24</th>\n",
       "      <td>10.392801</td>\n",
       "      <td>12.320357</td>\n",
       "      <td>12.357143</td>\n",
       "      <td>12.102143</td>\n",
       "      <td>12.208929</td>\n",
       "      <td>404712000</td>\n",
       "    </tr>\n",
       "    <tr>\n",
       "      <th>2011-03-25</th>\n",
       "      <td>10.590738</td>\n",
       "      <td>12.555000</td>\n",
       "      <td>12.573571</td>\n",
       "      <td>12.393571</td>\n",
       "      <td>12.431071</td>\n",
       "      <td>448910000</td>\n",
       "    </tr>\n",
       "  </tbody>\n",
       "</table>\n",
       "</div>"
      ],
      "text/plain": [
       "Price       Adj Close      Close       High        Low       Open     Volume\n",
       "Ticker           AAPL       AAPL       AAPL       AAPL       AAPL       AAPL\n",
       "Date                                                                        \n",
       "2011-03-21  10.221982  12.117857  12.133571  11.973571  11.999643  409402000\n",
       "2011-03-22  10.279226  12.185714  12.236429  12.112143  12.234286  325922800\n",
       "2011-03-23  10.218669  12.113929  12.150714  11.998214  12.117143  372996400\n",
       "2011-03-24  10.392801  12.320357  12.357143  12.102143  12.208929  404712000\n",
       "2011-03-25  10.590738  12.555000  12.573571  12.393571  12.431071  448910000"
      ]
     },
     "execution_count": 11,
     "metadata": {},
     "output_type": "execute_result"
    }
   ],
   "source": [
    "df.head()"
   ]
  },
  {
   "cell_type": "code",
   "execution_count": 12,
   "id": "01ecb51d-5275-42e0-b319-ee305a937ff3",
   "metadata": {},
   "outputs": [
    {
     "data": {
      "text/html": [
       "<div>\n",
       "<style scoped>\n",
       "    .dataframe tbody tr th:only-of-type {\n",
       "        vertical-align: middle;\n",
       "    }\n",
       "\n",
       "    .dataframe tbody tr th {\n",
       "        vertical-align: top;\n",
       "    }\n",
       "\n",
       "    .dataframe thead tr th {\n",
       "        text-align: left;\n",
       "    }\n",
       "\n",
       "    .dataframe thead tr:last-of-type th {\n",
       "        text-align: right;\n",
       "    }\n",
       "</style>\n",
       "<table border=\"1\" class=\"dataframe\">\n",
       "  <thead>\n",
       "    <tr>\n",
       "      <th>Price</th>\n",
       "      <th>Adj Close</th>\n",
       "      <th>Close</th>\n",
       "      <th>High</th>\n",
       "      <th>Low</th>\n",
       "      <th>Open</th>\n",
       "      <th>Volume</th>\n",
       "    </tr>\n",
       "    <tr>\n",
       "      <th>Ticker</th>\n",
       "      <th>AAPL</th>\n",
       "      <th>AAPL</th>\n",
       "      <th>AAPL</th>\n",
       "      <th>AAPL</th>\n",
       "      <th>AAPL</th>\n",
       "      <th>AAPL</th>\n",
       "    </tr>\n",
       "    <tr>\n",
       "      <th>Date</th>\n",
       "      <th></th>\n",
       "      <th></th>\n",
       "      <th></th>\n",
       "      <th></th>\n",
       "      <th></th>\n",
       "      <th></th>\n",
       "    </tr>\n",
       "  </thead>\n",
       "  <tbody>\n",
       "    <tr>\n",
       "      <th>2024-11-18</th>\n",
       "      <td>228.020004</td>\n",
       "      <td>228.020004</td>\n",
       "      <td>229.740005</td>\n",
       "      <td>225.169998</td>\n",
       "      <td>225.250000</td>\n",
       "      <td>44686000</td>\n",
       "    </tr>\n",
       "    <tr>\n",
       "      <th>2024-11-19</th>\n",
       "      <td>228.279999</td>\n",
       "      <td>228.279999</td>\n",
       "      <td>230.160004</td>\n",
       "      <td>226.660004</td>\n",
       "      <td>226.979996</td>\n",
       "      <td>36211800</td>\n",
       "    </tr>\n",
       "    <tr>\n",
       "      <th>2024-11-20</th>\n",
       "      <td>229.000000</td>\n",
       "      <td>229.000000</td>\n",
       "      <td>229.929993</td>\n",
       "      <td>225.889999</td>\n",
       "      <td>228.059998</td>\n",
       "      <td>35169600</td>\n",
       "    </tr>\n",
       "    <tr>\n",
       "      <th>2024-11-21</th>\n",
       "      <td>228.520004</td>\n",
       "      <td>228.520004</td>\n",
       "      <td>230.160004</td>\n",
       "      <td>225.710007</td>\n",
       "      <td>228.880005</td>\n",
       "      <td>42108300</td>\n",
       "    </tr>\n",
       "    <tr>\n",
       "      <th>2024-11-22</th>\n",
       "      <td>229.869995</td>\n",
       "      <td>229.869995</td>\n",
       "      <td>230.720001</td>\n",
       "      <td>228.059998</td>\n",
       "      <td>228.059998</td>\n",
       "      <td>38153300</td>\n",
       "    </tr>\n",
       "  </tbody>\n",
       "</table>\n",
       "</div>"
      ],
      "text/plain": [
       "Price        Adj Close       Close        High         Low        Open  \\\n",
       "Ticker            AAPL        AAPL        AAPL        AAPL        AAPL   \n",
       "Date                                                                     \n",
       "2024-11-18  228.020004  228.020004  229.740005  225.169998  225.250000   \n",
       "2024-11-19  228.279999  228.279999  230.160004  226.660004  226.979996   \n",
       "2024-11-20  229.000000  229.000000  229.929993  225.889999  228.059998   \n",
       "2024-11-21  228.520004  228.520004  230.160004  225.710007  228.880005   \n",
       "2024-11-22  229.869995  229.869995  230.720001  228.059998  228.059998   \n",
       "\n",
       "Price         Volume  \n",
       "Ticker          AAPL  \n",
       "Date                  \n",
       "2024-11-18  44686000  \n",
       "2024-11-19  36211800  \n",
       "2024-11-20  35169600  \n",
       "2024-11-21  42108300  \n",
       "2024-11-22  38153300  "
      ]
     },
     "execution_count": 12,
     "metadata": {},
     "output_type": "execute_result"
    }
   ],
   "source": [
    "df.tail()"
   ]
  },
  {
   "cell_type": "code",
   "execution_count": 13,
   "id": "dc2807ed-037e-49fd-827f-3f81241c939b",
   "metadata": {},
   "outputs": [],
   "source": [
    "df.to_csv('AAPL.csv')"
   ]
  },
  {
   "cell_type": "code",
   "execution_count": 14,
   "id": "2ac3b1c5-f910-4b82-a8b3-0a1bff155ea6",
   "metadata": {},
   "outputs": [],
   "source": [
    "df1 = df.reset_index()['Close']"
   ]
  },
  {
   "cell_type": "code",
   "execution_count": 15,
   "id": "ee70b6df-8ac0-4afa-89bc-124a62aea52f",
   "metadata": {},
   "outputs": [
    {
     "data": {
      "text/html": [
       "<div>\n",
       "<style scoped>\n",
       "    .dataframe tbody tr th:only-of-type {\n",
       "        vertical-align: middle;\n",
       "    }\n",
       "\n",
       "    .dataframe tbody tr th {\n",
       "        vertical-align: top;\n",
       "    }\n",
       "\n",
       "    .dataframe thead th {\n",
       "        text-align: right;\n",
       "    }\n",
       "</style>\n",
       "<table border=\"1\" class=\"dataframe\">\n",
       "  <thead>\n",
       "    <tr style=\"text-align: right;\">\n",
       "      <th>Ticker</th>\n",
       "      <th>AAPL</th>\n",
       "    </tr>\n",
       "  </thead>\n",
       "  <tbody>\n",
       "    <tr>\n",
       "      <th>0</th>\n",
       "      <td>12.117857</td>\n",
       "    </tr>\n",
       "    <tr>\n",
       "      <th>1</th>\n",
       "      <td>12.185714</td>\n",
       "    </tr>\n",
       "    <tr>\n",
       "      <th>2</th>\n",
       "      <td>12.113929</td>\n",
       "    </tr>\n",
       "    <tr>\n",
       "      <th>3</th>\n",
       "      <td>12.320357</td>\n",
       "    </tr>\n",
       "    <tr>\n",
       "      <th>4</th>\n",
       "      <td>12.555000</td>\n",
       "    </tr>\n",
       "    <tr>\n",
       "      <th>...</th>\n",
       "      <td>...</td>\n",
       "    </tr>\n",
       "    <tr>\n",
       "      <th>3439</th>\n",
       "      <td>228.020004</td>\n",
       "    </tr>\n",
       "    <tr>\n",
       "      <th>3440</th>\n",
       "      <td>228.279999</td>\n",
       "    </tr>\n",
       "    <tr>\n",
       "      <th>3441</th>\n",
       "      <td>229.000000</td>\n",
       "    </tr>\n",
       "    <tr>\n",
       "      <th>3442</th>\n",
       "      <td>228.520004</td>\n",
       "    </tr>\n",
       "    <tr>\n",
       "      <th>3443</th>\n",
       "      <td>229.869995</td>\n",
       "    </tr>\n",
       "  </tbody>\n",
       "</table>\n",
       "<p>3444 rows × 1 columns</p>\n",
       "</div>"
      ],
      "text/plain": [
       "Ticker        AAPL\n",
       "0        12.117857\n",
       "1        12.185714\n",
       "2        12.113929\n",
       "3        12.320357\n",
       "4        12.555000\n",
       "...            ...\n",
       "3439    228.020004\n",
       "3440    228.279999\n",
       "3441    229.000000\n",
       "3442    228.520004\n",
       "3443    229.869995\n",
       "\n",
       "[3444 rows x 1 columns]"
      ]
     },
     "execution_count": 15,
     "metadata": {},
     "output_type": "execute_result"
    }
   ],
   "source": [
    "df1"
   ]
  },
  {
   "cell_type": "code",
   "execution_count": 16,
   "id": "d04d1e9b-5c27-4d50-8fb3-154e1097704d",
   "metadata": {},
   "outputs": [
    {
     "data": {
      "text/plain": [
       "(3444, 1)"
      ]
     },
     "execution_count": 16,
     "metadata": {},
     "output_type": "execute_result"
    }
   ],
   "source": [
    "df1.shape"
   ]
  },
  {
   "cell_type": "code",
   "execution_count": 17,
   "id": "f9e4e462-ed4d-4995-90fa-6b30cf3a8f2f",
   "metadata": {},
   "outputs": [
    {
     "data": {
      "text/plain": [
       "[<matplotlib.lines.Line2D at 0x2403412c0e0>]"
      ]
     },
     "execution_count": 17,
     "metadata": {},
     "output_type": "execute_result"
    },
    {
     "data": {
      "image/png": "[encoded data removed]",
      "text/plain": [
       "<Figure size 640x480 with 1 Axes>"
      ]
     },
     "metadata": {},
     "output_type": "display_data"
    }
   ],
   "source": [
    "import matplotlib.pyplot as plt\n",
    "plt.plot(df1)"
   ]
  },
  {
   "cell_type": "markdown",
   "id": "74a8b576-254c-4240-961a-3474ad80e59f",
   "metadata": {},
   "source": [
    "## STEP-2 Preprocessing the data i.e. train and test split"
   ]
  },
  {
   "cell_type": "code",
   "execution_count": 19,
   "id": "2527b4df-e1fe-4aff-89ca-03285f668d5d",
   "metadata": {},
   "outputs": [],
   "source": [
    "## LSTM are sensitive to the scale of the data, so we applt MinMax Scaler"
   ]
  },
  {
   "cell_type": "code",
   "execution_count": 20,
   "id": "d119f5a4-3424-48bd-8336-139277e19ec5",
   "metadata": {},
   "outputs": [],
   "source": [
    "import numpy as np"
   ]
  },
  {
   "cell_type": "code",
   "execution_count": 21,
   "id": "2914237c-a29b-491f-a164-a8bf1d7325c4",
   "metadata": {},
   "outputs": [],
   "source": [
    "from sklearn.preprocessing import MinMaxScaler\n",
    "scaler = MinMaxScaler(feature_range=(0,1))\n",
    "df1 = scaler.fit_transform(np.array(df1).reshape(-1,1))"
   ]
  },
  {
   "cell_type": "code",
   "execution_count": 22,
   "id": "d34ee85e-2828-4a6f-ae80-64dea70c15b7",
   "metadata": {},
   "outputs": [
    {
     "data": {
      "text/plain": [
       "array([[0.00380265],\n",
       "       [0.00410395],\n",
       "       [0.00378521],\n",
       "       ...,\n",
       "       [0.96678784],\n",
       "       [0.96465659],\n",
       "       [0.97065073]])"
      ]
     },
     "execution_count": 22,
     "metadata": {},
     "output_type": "execute_result"
    }
   ],
   "source": [
    "df1"
   ]
  },
  {
   "cell_type": "code",
   "execution_count": 23,
   "id": "e2d7cb3f-96e0-48b1-8e24-ad1510d4055b",
   "metadata": {},
   "outputs": [
    {
     "data": {
      "text/plain": [
       "(3444, 1)"
      ]
     },
     "execution_count": 23,
     "metadata": {},
     "output_type": "execute_result"
    }
   ],
   "source": [
    "df1.shape"
   ]
  },
  {
   "cell_type": "code",
   "execution_count": 24,
   "id": "3d8f7795-f0da-4b54-a23b-647d288894c3",
   "metadata": {},
   "outputs": [],
   "source": [
    "## Splitting the dataset into train and test split\n",
    "## Be aware that the dataset should not be split randomly in the time series dataset as one day's data depends on the previous day's data.\n",
    "training_size = int(len(df1)*0.65)\n",
    "test_size = len(df1)-training_size\n",
    "train_data, test_data = df1[0:training_size,:], df1[training_size:len(df1), :1]"
   ]
  },
  {
   "cell_type": "code",
   "execution_count": 25,
   "id": "08ae6312-e861-412a-a73b-dbcae2ece8e5",
   "metadata": {},
   "outputs": [
    {
     "data": {
      "text/plain": [
       "(2238, 1206)"
      ]
     },
     "execution_count": 25,
     "metadata": {},
     "output_type": "execute_result"
    }
   ],
   "source": [
    "training_size, test_size"
   ]
  },
  {
   "cell_type": "code",
   "execution_count": 26,
   "id": "9d55ca03-20da-4c05-8976-6470ae451bfe",
   "metadata": {},
   "outputs": [
    {
     "data": {
      "text/plain": [
       "array([[0.00380265],\n",
       "       [0.00410395],\n",
       "       [0.00378521],\n",
       "       ...,\n",
       "       [0.31099154],\n",
       "       [0.30524158],\n",
       "       [0.30692882]])"
      ]
     },
     "execution_count": 26,
     "metadata": {},
     "output_type": "execute_result"
    }
   ],
   "source": [
    "train_data"
   ]
  },
  {
   "cell_type": "markdown",
   "id": "9d25ec9e-945c-4551-b50b-84be1ece6296",
   "metadata": {},
   "source": [
    "What we did for the X_train and y_train is that we have taken any number of values(let's say 5), we take the first 4 values(1,2,3,4) as our X_train and the 5th value as y_train. In the next time step, we have shifted this window by one, and now the X_train contains 2,3,4,5 and the 6th value goes into y_train, and so on...\n",
    "\n",
    "This method is similarly repeated for X_test and y_test\n",
    "\n",
    "Here for this dataset, we have taken the time step value of 100, so the first 99 values is X_train and 100th value is y_train"
   ]
  },
  {
   "cell_type": "code",
   "execution_count": 28,
   "id": "33105221-eb00-4a0d-a337-569130d2cee2",
   "metadata": {},
   "outputs": [],
   "source": [
    "## Convert an array of values into a dataset matrix\n",
    "def create_dataset(dataset, time_step = 1):\n",
    "    dataX, dataY = [],[]\n",
    "    for i in range(len(dataset)-time_step-1):\n",
    "        a = dataset[i:(i+time_step), 0]     ###i=0,  0,1,2,3---99   100\n",
    "        dataX.append(a)\n",
    "        dataY.append(dataset[i+time_step, 0])\n",
    "    return np.array(dataX), np.array(dataY)"
   ]
  },
  {
   "cell_type": "code",
   "execution_count": 29,
   "id": "fff11251-1792-403e-b352-76fbc26a65c2",
   "metadata": {},
   "outputs": [],
   "source": [
    "## reshape into X=t, t+1, t+2, t+3 and Y=t+4\n",
    "time_step = 100\n",
    "X_train, y_train = create_dataset(train_data, time_step)\n",
    "X_test, y_test = create_dataset(test_data, time_step)"
   ]
  },
  {
   "cell_type": "code",
   "execution_count": 30,
   "id": "86bf7908-b0a4-42f1-9117-1dcaeb1ca831",
   "metadata": {},
   "outputs": [
    {
     "name": "stdout",
     "output_type": "stream",
     "text": [
      "[[0.00380265 0.00410395 0.00378521 ... 0.00600845 0.00930683 0.00767033]\n",
      " [0.00410395 0.00378521 0.00470178 ... 0.00930683 0.00767033 0.00925767]\n",
      " [0.00378521 0.00470178 0.00574363 ... 0.00767033 0.00925767 0.00977939]\n",
      " ...\n",
      " [0.19763499 0.19281746 0.19409399 ... 0.29356405 0.29262051 0.30393175]\n",
      " [0.19281746 0.19409399 0.19498202 ... 0.29262051 0.30393175 0.30681784]\n",
      " [0.19409399 0.19498202 0.19727979 ... 0.30393175 0.30681784 0.31099154]]\n"
     ]
    }
   ],
   "source": [
    "print(X_train)"
   ]
  },
  {
   "cell_type": "code",
   "execution_count": 31,
   "id": "d893693b-b237-4a66-aac4-813867900027",
   "metadata": {},
   "outputs": [
    {
     "name": "stdout",
     "output_type": "stream",
     "text": [
      "(2137, 100)\n",
      "(2137,)\n"
     ]
    }
   ],
   "source": [
    "print(X_train.shape)\n",
    "print(y_train.shape)"
   ]
  },
  {
   "cell_type": "code",
   "execution_count": 32,
   "id": "095816d4-3088-40cc-9eda-eb735f593424",
   "metadata": {},
   "outputs": [
    {
     "name": "stdout",
     "output_type": "stream",
     "text": [
      "(1105, 100)\n",
      "(1105,)\n"
     ]
    }
   ],
   "source": [
    "print(X_test.shape)\n",
    "print(y_test.shape)"
   ]
  },
  {
   "cell_type": "markdown",
   "id": "2ce56113-5865-4622-a964-6f5356c14767",
   "metadata": {},
   "source": [
    "# STEP-3 Create a Stacked LSTM model"
   ]
  },
  {
   "cell_type": "markdown",
   "id": "5f7806af-30b4-46d2-8d85-293d874426d8",
   "metadata": {},
   "source": [
    "### reshape input to be (samples, time_steps, features) which is required for LSTM"
   ]
  },
  {
   "cell_type": "code",
   "execution_count": 35,
   "id": "d613b37c-1c63-4593-9fe5-68838fe2e13b",
   "metadata": {},
   "outputs": [],
   "source": [
    "X_train = X_train.reshape(X_train.shape[0], X_train.shape[1], 1)\n",
    "X_test = X_test.reshape(X_test.shape[0], X_test.shape[1], 1)"
   ]
  },
  {
   "cell_type": "markdown",
   "id": "dc74aff5-3ecb-4e1e-bfe9-d3a597b3e780",
   "metadata": {},
   "source": [
    "## Stack LSTM means one LSTM layer over other OR multiple LSTM models stacked "
   ]
  },
  {
   "cell_type": "code",
   "execution_count": 37,
   "id": "a4e1eef6-689d-407d-91ec-b9021c507028",
   "metadata": {},
   "outputs": [],
   "source": [
    "### Create the Stacked LSTM model\n",
    "from tensorflow.keras.models import Sequential\n",
    "from tensorflow.keras.layers import Dense\n",
    "from tensorflow.keras.layers import LSTM"
   ]
  },
  {
   "cell_type": "markdown",
   "id": "0d5858ba-2264-42e3-b5ac-c64722aac63e",
   "metadata": {},
   "source": [
    "input_shape in lstm is always the last two values of the X_train, here it is time_step and features(i.e. (100,1))"
   ]
  },
  {
   "cell_type": "code",
   "execution_count": 39,
   "id": "51062e14-f6c5-4596-a9f0-4797063f6ee7",
   "metadata": {},
   "outputs": [
    {
     "name": "stderr",
     "output_type": "stream",
     "text": [
      "D:\\Anaconda\\Lib\\site-packages\\keras\\src\\layers\\rnn\\rnn.py:204: UserWarning: Do not pass an `input_shape`/`input_dim` argument to a layer. When using Sequential models, prefer using an `Input(shape)` object as the first layer in the model instead.\n",
      "  super().__init__(**kwargs)\n"
     ]
    }
   ],
   "source": [
    "model = Sequential()\n",
    "model.add(LSTM(50, return_sequences=True, input_shape=(100,1)))\n",
    "model.add(LSTM(50, return_sequences=True))\n",
    "model.add(LSTM(50))\n",
    "model.add(Dense(1))\n",
    "model.compile(loss='mean_squared_error',optimizer='adam')"
   ]
  },
  {
   "cell_type": "code",
   "execution_count": 40,
   "id": "00be2b71-bf74-4380-9971-af52500db098",
   "metadata": {},
   "outputs": [
    {
     "data": {
      "text/html": [
       "<pre style=\"white-space:pre;overflow-x:auto;line-height:normal;font-family:Menlo,'DejaVu Sans Mono',consolas,'Courier New',monospace\"><span style=\"font-weight: bold\">Model: \"sequential\"</span>\n",
       "</pre>\n"
      ],
      "text/plain": [
       "\u001b[1mModel: \"sequential\"\u001b[0m\n"
      ]
     },
     "metadata": {},
     "output_type": "display_data"
    },
    {
     "data": {
      "text/html": [
       "<pre style=\"white-space:pre;overflow-x:auto;line-height:normal;font-family:Menlo,'DejaVu Sans Mono',consolas,'Courier New',monospace\">┏━━━━━━━━━━━━━━━━━━━━━━━━━━━━━━━━━━━━━━┳━━━━━━━━━━━━━━━━━━━━━━━━━━━━━┳━━━━━━━━━━━━━━━━━┓\n",
       "┃<span style=\"font-weight: bold\"> Layer (type)                         </span>┃<span style=\"font-weight: bold\"> Output Shape                </span>┃<span style=\"font-weight: bold\">         Param # </span>┃\n",
       "┡━━━━━━━━━━━━━━━━━━━━━━━━━━━━━━━━━━━━━━╇━━━━━━━━━━━━━━━━━━━━━━━━━━━━━╇━━━━━━━━━━━━━━━━━┩\n",
       "│ lstm (<span style=\"color: #0087ff; text-decoration-color: #0087ff\">LSTM</span>)                          │ (<span style=\"color: #00d7ff; text-decoration-color: #00d7ff\">None</span>, <span style=\"color: #00af00; text-decoration-color: #00af00\">100</span>, <span style=\"color: #00af00; text-decoration-color: #00af00\">50</span>)             │          <span style=\"color: #00af00; text-decoration-color: #00af00\">10,400</span> │\n",
       "├──────────────────────────────────────┼─────────────────────────────┼─────────────────┤\n",
       "│ lstm_1 (<span style=\"color: #0087ff; text-decoration-color: #0087ff\">LSTM</span>)                        │ (<span style=\"color: #00d7ff; text-decoration-color: #00d7ff\">None</span>, <span style=\"color: #00af00; text-decoration-color: #00af00\">100</span>, <span style=\"color: #00af00; text-decoration-color: #00af00\">50</span>)             │          <span style=\"color: #00af00; text-decoration-color: #00af00\">20,200</span> │\n",
       "├──────────────────────────────────────┼─────────────────────────────┼─────────────────┤\n",
       "│ lstm_2 (<span style=\"color: #0087ff; text-decoration-color: #0087ff\">LSTM</span>)                        │ (<span style=\"color: #00d7ff; text-decoration-color: #00d7ff\">None</span>, <span style=\"color: #00af00; text-decoration-color: #00af00\">50</span>)                  │          <span style=\"color: #00af00; text-decoration-color: #00af00\">20,200</span> │\n",
       "├──────────────────────────────────────┼─────────────────────────────┼─────────────────┤\n",
       "│ dense (<span style=\"color: #0087ff; text-decoration-color: #0087ff\">Dense</span>)                        │ (<span style=\"color: #00d7ff; text-decoration-color: #00d7ff\">None</span>, <span style=\"color: #00af00; text-decoration-color: #00af00\">1</span>)                   │              <span style=\"color: #00af00; text-decoration-color: #00af00\">51</span> │\n",
       "└──────────────────────────────────────┴─────────────────────────────┴─────────────────┘\n",
       "</pre>\n"
      ],
      "text/plain": [
       "┏━━━━━━━━━━━━━━━━━━━━━━━━━━━━━━━━━━━━━━┳━━━━━━━━━━━━━━━━━━━━━━━━━━━━━┳━━━━━━━━━━━━━━━━━┓\n",
       "┃\u001b[1m \u001b[0m\u001b[1mLayer (type)                        \u001b[0m\u001b[1m \u001b[0m┃\u001b[1m \u001b[0m\u001b[1mOutput Shape               \u001b[0m\u001b[1m \u001b[0m┃\u001b[1m \u001b[0m\u001b[1m        Param #\u001b[0m\u001b[1m \u001b[0m┃\n",
       "┡━━━━━━━━━━━━━━━━━━━━━━━━━━━━━━━━━━━━━━╇━━━━━━━━━━━━━━━━━━━━━━━━━━━━━╇━━━━━━━━━━━━━━━━━┩\n",
       "│ lstm (\u001b[38;5;33mLSTM\u001b[0m)                          │ (\u001b[38;5;45mNone\u001b[0m, \u001b[38;5;34m100\u001b[0m, \u001b[38;5;34m50\u001b[0m)             │          \u001b[38;5;34m10,400\u001b[0m │\n",
       "├──────────────────────────────────────┼─────────────────────────────┼─────────────────┤\n",
       "│ lstm_1 (\u001b[38;5;33mLSTM\u001b[0m)                        │ (\u001b[38;5;45mNone\u001b[0m, \u001b[38;5;34m100\u001b[0m, \u001b[38;5;34m50\u001b[0m)             │          \u001b[38;5;34m20,200\u001b[0m │\n",
       "├──────────────────────────────────────┼─────────────────────────────┼─────────────────┤\n",
       "│ lstm_2 (\u001b[38;5;33mLSTM\u001b[0m)                        │ (\u001b[38;5;45mNone\u001b[0m, \u001b[38;5;34m50\u001b[0m)                  │          \u001b[38;5;34m20,200\u001b[0m │\n",
       "├──────────────────────────────────────┼─────────────────────────────┼─────────────────┤\n",
       "│ dense (\u001b[38;5;33mDense\u001b[0m)                        │ (\u001b[38;5;45mNone\u001b[0m, \u001b[38;5;34m1\u001b[0m)                   │              \u001b[38;5;34m51\u001b[0m │\n",
       "└──────────────────────────────────────┴─────────────────────────────┴─────────────────┘\n"
      ]
     },
     "metadata": {},
     "output_type": "display_data"
    },
    {
     "data": {
      "text/html": [
       "<pre style=\"white-space:pre;overflow-x:auto;line-height:normal;font-family:Menlo,'DejaVu Sans Mono',consolas,'Courier New',monospace\"><span style=\"font-weight: bold\"> Total params: </span><span style=\"color: #00af00; text-decoration-color: #00af00\">50,851</span> (198.64 KB)\n",
       "</pre>\n"
      ],
      "text/plain": [
       "\u001b[1m Total params: \u001b[0m\u001b[38;5;34m50,851\u001b[0m (198.64 KB)\n"
      ]
     },
     "metadata": {},
     "output_type": "display_data"
    },
    {
     "data": {
      "text/html": [
       "<pre style=\"white-space:pre;overflow-x:auto;line-height:normal;font-family:Menlo,'DejaVu Sans Mono',consolas,'Courier New',monospace\"><span style=\"font-weight: bold\"> Trainable params: </span><span style=\"color: #00af00; text-decoration-color: #00af00\">50,851</span> (198.64 KB)\n",
       "</pre>\n"
      ],
      "text/plain": [
       "\u001b[1m Trainable params: \u001b[0m\u001b[38;5;34m50,851\u001b[0m (198.64 KB)\n"
      ]
     },
     "metadata": {},
     "output_type": "display_data"
    },
    {
     "data": {
      "text/html": [
       "<pre style=\"white-space:pre;overflow-x:auto;line-height:normal;font-family:Menlo,'DejaVu Sans Mono',consolas,'Courier New',monospace\"><span style=\"font-weight: bold\"> Non-trainable params: </span><span style=\"color: #00af00; text-decoration-color: #00af00\">0</span> (0.00 B)\n",
       "</pre>\n"
      ],
      "text/plain": [
       "\u001b[1m Non-trainable params: \u001b[0m\u001b[38;5;34m0\u001b[0m (0.00 B)\n"
      ]
     },
     "metadata": {},
     "output_type": "display_data"
    }
   ],
   "source": [
    "model.summary()"
   ]
  },
  {
   "cell_type": "code",
   "execution_count": 41,
   "id": "7fac0587-1264-4847-8654-e7d4b6fba07f",
   "metadata": {
    "scrolled": true
   },
   "outputs": [
    {
     "name": "stdout",
     "output_type": "stream",
     "text": [
      "Epoch 1/100\n",
      "\u001b[1m34/34\u001b[0m \u001b[32m━━━━━━━━━━━━━━━━━━━━\u001b[0m\u001b[37m\u001b[0m \u001b[1m8s\u001b[0m 109ms/step - loss: 0.0023 - val_loss: 0.0052\n",
      "Epoch 2/100\n",
      "\u001b[1m34/34\u001b[0m \u001b[32m━━━━━━━━━━━━━━━━━━━━\u001b[0m\u001b[37m\u001b[0m \u001b[1m3s\u001b[0m 94ms/step - loss: 8.4859e-05 - val_loss: 0.0014\n",
      "Epoch 3/100\n",
      "\u001b[1m34/34\u001b[0m \u001b[32m━━━━━━━━━━━━━━━━━━━━\u001b[0m\u001b[37m\u001b[0m \u001b[1m4s\u001b[0m 103ms/step - loss: 5.3383e-05 - val_loss: 0.0028\n",
      "Epoch 4/100\n",
      "\u001b[1m34/34\u001b[0m \u001b[32m━━━━━━━━━━━━━━━━━━━━\u001b[0m\u001b[37m\u001b[0m \u001b[1m5s\u001b[0m 140ms/step - loss: 5.7810e-05 - val_loss: 0.0034\n",
      "Epoch 5/100\n",
      "\u001b[1m34/34\u001b[0m \u001b[32m━━━━━━━━━━━━━━━━━━━━\u001b[0m\u001b[37m\u001b[0m \u001b[1m4s\u001b[0m 114ms/step - loss: 5.1024e-05 - val_loss: 0.0031\n",
      "Epoch 6/100\n",
      "\u001b[1m34/34\u001b[0m \u001b[32m━━━━━━━━━━━━━━━━━━━━\u001b[0m\u001b[37m\u001b[0m \u001b[1m4s\u001b[0m 122ms/step - loss: 5.1044e-05 - val_loss: 0.0039\n",
      "Epoch 7/100\n",
      "\u001b[1m34/34\u001b[0m \u001b[32m━━━━━━━━━━━━━━━━━━━━\u001b[0m\u001b[37m\u001b[0m \u001b[1m4s\u001b[0m 129ms/step - loss: 4.6209e-05 - val_loss: 0.0032\n",
      "Epoch 8/100\n",
      "\u001b[1m34/34\u001b[0m \u001b[32m━━━━━━━━━━━━━━━━━━━━\u001b[0m\u001b[37m\u001b[0m \u001b[1m4s\u001b[0m 121ms/step - loss: 4.1757e-05 - val_loss: 0.0026\n",
      "Epoch 9/100\n",
      "\u001b[1m34/34\u001b[0m \u001b[32m━━━━━━━━━━━━━━━━━━━━\u001b[0m\u001b[37m\u001b[0m \u001b[1m4s\u001b[0m 112ms/step - loss: 4.3390e-05 - val_loss: 0.0016\n",
      "Epoch 10/100\n",
      "\u001b[1m34/34\u001b[0m \u001b[32m━━━━━━━━━━━━━━━━━━━━\u001b[0m\u001b[37m\u001b[0m \u001b[1m4s\u001b[0m 112ms/step - loss: 4.2450e-05 - val_loss: 0.0022\n",
      "Epoch 11/100\n",
      "\u001b[1m34/34\u001b[0m \u001b[32m━━━━━━━━━━━━━━━━━━━━\u001b[0m\u001b[37m\u001b[0m \u001b[1m4s\u001b[0m 126ms/step - loss: 4.0506e-05 - val_loss: 0.0014\n",
      "Epoch 12/100\n",
      "\u001b[1m34/34\u001b[0m \u001b[32m━━━━━━━━━━━━━━━━━━━━\u001b[0m\u001b[37m\u001b[0m \u001b[1m4s\u001b[0m 117ms/step - loss: 4.0104e-05 - val_loss: 0.0011\n",
      "Epoch 13/100\n",
      "\u001b[1m34/34\u001b[0m \u001b[32m━━━━━━━━━━━━━━━━━━━━\u001b[0m\u001b[37m\u001b[0m \u001b[1m4s\u001b[0m 122ms/step - loss: 3.6983e-05 - val_loss: 9.5354e-04\n",
      "Epoch 14/100\n",
      "\u001b[1m34/34\u001b[0m \u001b[32m━━━━━━━━━━━━━━━━━━━━\u001b[0m\u001b[37m\u001b[0m \u001b[1m4s\u001b[0m 107ms/step - loss: 3.5452e-05 - val_loss: 0.0015\n",
      "Epoch 15/100\n",
      "\u001b[1m34/34\u001b[0m \u001b[32m━━━━━━━━━━━━━━━━━━━━\u001b[0m\u001b[37m\u001b[0m \u001b[1m4s\u001b[0m 103ms/step - loss: 3.1848e-05 - val_loss: 8.1527e-04\n",
      "Epoch 16/100\n",
      "\u001b[1m34/34\u001b[0m \u001b[32m━━━━━━━━━━━━━━━━━━━━\u001b[0m\u001b[37m\u001b[0m \u001b[1m4s\u001b[0m 103ms/step - loss: 3.3629e-05 - val_loss: 0.0014\n",
      "Epoch 17/100\n",
      "\u001b[1m34/34\u001b[0m \u001b[32m━━━━━━━━━━━━━━━━━━━━\u001b[0m\u001b[37m\u001b[0m \u001b[1m4s\u001b[0m 102ms/step - loss: 3.3419e-05 - val_loss: 0.0012\n",
      "Epoch 18/100\n",
      "\u001b[1m34/34\u001b[0m \u001b[32m━━━━━━━━━━━━━━━━━━━━\u001b[0m\u001b[37m\u001b[0m \u001b[1m5s\u001b[0m 133ms/step - loss: 3.8124e-05 - val_loss: 8.2572e-04\n",
      "Epoch 19/100\n",
      "\u001b[1m34/34\u001b[0m \u001b[32m━━━━━━━━━━━━━━━━━━━━\u001b[0m\u001b[37m\u001b[0m \u001b[1m4s\u001b[0m 130ms/step - loss: 2.9008e-05 - val_loss: 8.3300e-04\n",
      "Epoch 20/100\n",
      "\u001b[1m34/34\u001b[0m \u001b[32m━━━━━━━━━━━━━━━━━━━━\u001b[0m\u001b[37m\u001b[0m \u001b[1m4s\u001b[0m 107ms/step - loss: 3.4580e-05 - val_loss: 7.6423e-04\n",
      "Epoch 21/100\n",
      "\u001b[1m34/34\u001b[0m \u001b[32m━━━━━━━━━━━━━━━━━━━━\u001b[0m\u001b[37m\u001b[0m \u001b[1m3s\u001b[0m 99ms/step - loss: 3.2590e-05 - val_loss: 8.3036e-04\n",
      "Epoch 22/100\n",
      "\u001b[1m34/34\u001b[0m \u001b[32m━━━━━━━━━━━━━━━━━━━━\u001b[0m\u001b[37m\u001b[0m \u001b[1m3s\u001b[0m 100ms/step - loss: 2.7254e-05 - val_loss: 7.9993e-04\n",
      "Epoch 23/100\n",
      "\u001b[1m34/34\u001b[0m \u001b[32m━━━━━━━━━━━━━━━━━━━━\u001b[0m\u001b[37m\u001b[0m \u001b[1m4s\u001b[0m 113ms/step - loss: 2.7535e-05 - val_loss: 7.5977e-04\n",
      "Epoch 24/100\n",
      "\u001b[1m34/34\u001b[0m \u001b[32m━━━━━━━━━━━━━━━━━━━━\u001b[0m\u001b[37m\u001b[0m \u001b[1m4s\u001b[0m 105ms/step - loss: 2.7770e-05 - val_loss: 9.3177e-04\n",
      "Epoch 25/100\n",
      "\u001b[1m34/34\u001b[0m \u001b[32m━━━━━━━━━━━━━━━━━━━━\u001b[0m\u001b[37m\u001b[0m \u001b[1m4s\u001b[0m 105ms/step - loss: 2.5888e-05 - val_loss: 8.7674e-04\n",
      "Epoch 26/100\n",
      "\u001b[1m34/34\u001b[0m \u001b[32m━━━━━━━━━━━━━━━━━━━━\u001b[0m\u001b[37m\u001b[0m \u001b[1m3s\u001b[0m 102ms/step - loss: 2.4276e-05 - val_loss: 0.0013\n",
      "Epoch 27/100\n",
      "\u001b[1m34/34\u001b[0m \u001b[32m━━━━━━━━━━━━━━━━━━━━\u001b[0m\u001b[37m\u001b[0m \u001b[1m4s\u001b[0m 121ms/step - loss: 2.7095e-05 - val_loss: 0.0013\n",
      "Epoch 28/100\n",
      "\u001b[1m34/34\u001b[0m \u001b[32m━━━━━━━━━━━━━━━━━━━━\u001b[0m\u001b[37m\u001b[0m \u001b[1m3s\u001b[0m 102ms/step - loss: 3.1975e-05 - val_loss: 7.7051e-04\n",
      "Epoch 29/100\n",
      "\u001b[1m34/34\u001b[0m \u001b[32m━━━━━━━━━━━━━━━━━━━━\u001b[0m\u001b[37m\u001b[0m \u001b[1m4s\u001b[0m 133ms/step - loss: 2.2665e-05 - val_loss: 0.0014\n",
      "Epoch 30/100\n",
      "\u001b[1m34/34\u001b[0m \u001b[32m━━━━━━━━━━━━━━━━━━━━\u001b[0m\u001b[37m\u001b[0m \u001b[1m4s\u001b[0m 129ms/step - loss: 2.3669e-05 - val_loss: 6.6227e-04\n",
      "Epoch 31/100\n",
      "\u001b[1m34/34\u001b[0m \u001b[32m━━━━━━━━━━━━━━━━━━━━\u001b[0m\u001b[37m\u001b[0m \u001b[1m4s\u001b[0m 108ms/step - loss: 2.0887e-05 - val_loss: 7.0107e-04\n",
      "Epoch 32/100\n",
      "\u001b[1m34/34\u001b[0m \u001b[32m━━━━━━━━━━━━━━━━━━━━\u001b[0m\u001b[37m\u001b[0m \u001b[1m4s\u001b[0m 125ms/step - loss: 2.5663e-05 - val_loss: 6.2967e-04\n",
      "Epoch 33/100\n",
      "\u001b[1m34/34\u001b[0m \u001b[32m━━━━━━━━━━━━━━━━━━━━\u001b[0m\u001b[37m\u001b[0m \u001b[1m3s\u001b[0m 99ms/step - loss: 2.3828e-05 - val_loss: 6.3161e-04\n",
      "Epoch 34/100\n",
      "\u001b[1m34/34\u001b[0m \u001b[32m━━━━━━━━━━━━━━━━━━━━\u001b[0m\u001b[37m\u001b[0m \u001b[1m4s\u001b[0m 109ms/step - loss: 2.9946e-05 - val_loss: 7.7124e-04\n",
      "Epoch 35/100\n",
      "\u001b[1m34/34\u001b[0m \u001b[32m━━━━━━━━━━━━━━━━━━━━\u001b[0m\u001b[37m\u001b[0m \u001b[1m3s\u001b[0m 102ms/step - loss: 2.4490e-05 - val_loss: 5.6120e-04\n",
      "Epoch 36/100\n",
      "\u001b[1m34/34\u001b[0m \u001b[32m━━━━━━━━━━━━━━━━━━━━\u001b[0m\u001b[37m\u001b[0m \u001b[1m3s\u001b[0m 99ms/step - loss: 2.1049e-05 - val_loss: 8.0901e-04\n",
      "Epoch 37/100\n",
      "\u001b[1m34/34\u001b[0m \u001b[32m━━━━━━━━━━━━━━━━━━━━\u001b[0m\u001b[37m\u001b[0m \u001b[1m4s\u001b[0m 103ms/step - loss: 2.1792e-05 - val_loss: 5.4093e-04\n",
      "Epoch 38/100\n",
      "\u001b[1m34/34\u001b[0m \u001b[32m━━━━━━━━━━━━━━━━━━━━\u001b[0m\u001b[37m\u001b[0m \u001b[1m4s\u001b[0m 103ms/step - loss: 2.0154e-05 - val_loss: 5.4418e-04\n",
      "Epoch 39/100\n",
      "\u001b[1m34/34\u001b[0m \u001b[32m━━━━━━━━━━━━━━━━━━━━\u001b[0m\u001b[37m\u001b[0m \u001b[1m3s\u001b[0m 99ms/step - loss: 2.0047e-05 - val_loss: 8.1720e-04\n",
      "Epoch 40/100\n",
      "\u001b[1m34/34\u001b[0m \u001b[32m━━━━━━━━━━━━━━━━━━━━\u001b[0m\u001b[37m\u001b[0m \u001b[1m4s\u001b[0m 105ms/step - loss: 2.6336e-05 - val_loss: 5.5206e-04\n",
      "Epoch 41/100\n",
      "\u001b[1m34/34\u001b[0m \u001b[32m━━━━━━━━━━━━━━━━━━━━\u001b[0m\u001b[37m\u001b[0m \u001b[1m4s\u001b[0m 108ms/step - loss: 2.0465e-05 - val_loss: 8.8348e-04\n",
      "Epoch 42/100\n",
      "\u001b[1m34/34\u001b[0m \u001b[32m━━━━━━━━━━━━━━━━━━━━\u001b[0m\u001b[37m\u001b[0m \u001b[1m4s\u001b[0m 103ms/step - loss: 2.3918e-05 - val_loss: 8.5516e-04\n",
      "Epoch 43/100\n",
      "\u001b[1m34/34\u001b[0m \u001b[32m━━━━━━━━━━━━━━━━━━━━\u001b[0m\u001b[37m\u001b[0m \u001b[1m4s\u001b[0m 103ms/step - loss: 2.5348e-05 - val_loss: 4.5062e-04\n",
      "Epoch 44/100\n",
      "\u001b[1m34/34\u001b[0m \u001b[32m━━━━━━━━━━━━━━━━━━━━\u001b[0m\u001b[37m\u001b[0m \u001b[1m4s\u001b[0m 104ms/step - loss: 2.4751e-05 - val_loss: 0.0016\n",
      "Epoch 45/100\n",
      "\u001b[1m34/34\u001b[0m \u001b[32m━━━━━━━━━━━━━━━━━━━━\u001b[0m\u001b[37m\u001b[0m \u001b[1m4s\u001b[0m 108ms/step - loss: 2.2380e-05 - val_loss: 5.1569e-04\n",
      "Epoch 46/100\n",
      "\u001b[1m34/34\u001b[0m \u001b[32m━━━━━━━━━━━━━━━━━━━━\u001b[0m\u001b[37m\u001b[0m \u001b[1m3s\u001b[0m 102ms/step - loss: 1.5734e-05 - val_loss: 5.8569e-04\n",
      "Epoch 47/100\n",
      "\u001b[1m34/34\u001b[0m \u001b[32m━━━━━━━━━━━━━━━━━━━━\u001b[0m\u001b[37m\u001b[0m \u001b[1m4s\u001b[0m 104ms/step - loss: 2.0559e-05 - val_loss: 4.2846e-04\n",
      "Epoch 48/100\n",
      "\u001b[1m34/34\u001b[0m \u001b[32m━━━━━━━━━━━━━━━━━━━━\u001b[0m\u001b[37m\u001b[0m \u001b[1m4s\u001b[0m 106ms/step - loss: 1.8210e-05 - val_loss: 4.2287e-04\n",
      "Epoch 49/100\n",
      "\u001b[1m34/34\u001b[0m \u001b[32m━━━━━━━━━━━━━━━━━━━━\u001b[0m\u001b[37m\u001b[0m \u001b[1m3s\u001b[0m 102ms/step - loss: 1.7989e-05 - val_loss: 5.6505e-04\n",
      "Epoch 50/100\n",
      "\u001b[1m34/34\u001b[0m \u001b[32m━━━━━━━━━━━━━━━━━━━━\u001b[0m\u001b[37m\u001b[0m \u001b[1m4s\u001b[0m 102ms/step - loss: 2.3733e-05 - val_loss: 4.3889e-04\n",
      "Epoch 51/100\n",
      "\u001b[1m34/34\u001b[0m \u001b[32m━━━━━━━━━━━━━━━━━━━━\u001b[0m\u001b[37m\u001b[0m \u001b[1m4s\u001b[0m 104ms/step - loss: 1.5021e-05 - val_loss: 3.8816e-04\n",
      "Epoch 52/100\n",
      "\u001b[1m34/34\u001b[0m \u001b[32m━━━━━━━━━━━━━━━━━━━━\u001b[0m\u001b[37m\u001b[0m \u001b[1m4s\u001b[0m 104ms/step - loss: 1.5085e-05 - val_loss: 3.8717e-04\n",
      "Epoch 53/100\n",
      "\u001b[1m34/34\u001b[0m \u001b[32m━━━━━━━━━━━━━━━━━━━━\u001b[0m\u001b[37m\u001b[0m \u001b[1m4s\u001b[0m 103ms/step - loss: 1.4541e-05 - val_loss: 6.5987e-04\n",
      "Epoch 54/100\n",
      "\u001b[1m34/34\u001b[0m \u001b[32m━━━━━━━━━━━━━━━━━━━━\u001b[0m\u001b[37m\u001b[0m \u001b[1m4s\u001b[0m 106ms/step - loss: 1.7150e-05 - val_loss: 3.6144e-04\n",
      "Epoch 55/100\n",
      "\u001b[1m34/34\u001b[0m \u001b[32m━━━━━━━━━━━━━━━━━━━━\u001b[0m\u001b[37m\u001b[0m \u001b[1m4s\u001b[0m 104ms/step - loss: 1.7535e-05 - val_loss: 3.6344e-04\n",
      "Epoch 56/100\n",
      "\u001b[1m34/34\u001b[0m \u001b[32m━━━━━━━━━━━━━━━━━━━━\u001b[0m\u001b[37m\u001b[0m \u001b[1m4s\u001b[0m 106ms/step - loss: 1.6508e-05 - val_loss: 3.6706e-04\n",
      "Epoch 57/100\n",
      "\u001b[1m34/34\u001b[0m \u001b[32m━━━━━━━━━━━━━━━━━━━━\u001b[0m\u001b[37m\u001b[0m \u001b[1m4s\u001b[0m 106ms/step - loss: 1.4035e-05 - val_loss: 3.6837e-04\n",
      "Epoch 58/100\n",
      "\u001b[1m34/34\u001b[0m \u001b[32m━━━━━━━━━━━━━━━━━━━━\u001b[0m\u001b[37m\u001b[0m \u001b[1m4s\u001b[0m 106ms/step - loss: 1.2820e-05 - val_loss: 5.3132e-04\n",
      "Epoch 59/100\n",
      "\u001b[1m34/34\u001b[0m \u001b[32m━━━━━━━━━━━━━━━━━━━━\u001b[0m\u001b[37m\u001b[0m \u001b[1m4s\u001b[0m 107ms/step - loss: 1.4541e-05 - val_loss: 3.5915e-04\n",
      "Epoch 60/100\n",
      "\u001b[1m34/34\u001b[0m \u001b[32m━━━━━━━━━━━━━━━━━━━━\u001b[0m\u001b[37m\u001b[0m \u001b[1m4s\u001b[0m 113ms/step - loss: 1.2645e-05 - val_loss: 3.5054e-04\n",
      "Epoch 61/100\n",
      "\u001b[1m34/34\u001b[0m \u001b[32m━━━━━━━━━━━━━━━━━━━━\u001b[0m\u001b[37m\u001b[0m \u001b[1m3s\u001b[0m 102ms/step - loss: 1.3029e-05 - val_loss: 8.2344e-04\n",
      "Epoch 62/100\n",
      "\u001b[1m34/34\u001b[0m \u001b[32m━━━━━━━━━━━━━━━━━━━━\u001b[0m\u001b[37m\u001b[0m \u001b[1m4s\u001b[0m 108ms/step - loss: 1.7826e-05 - val_loss: 3.2417e-04\n",
      "Epoch 63/100\n",
      "\u001b[1m34/34\u001b[0m \u001b[32m━━━━━━━━━━━━━━━━━━━━\u001b[0m\u001b[37m\u001b[0m \u001b[1m4s\u001b[0m 108ms/step - loss: 1.2821e-05 - val_loss: 5.3290e-04\n",
      "Epoch 64/100\n",
      "\u001b[1m34/34\u001b[0m \u001b[32m━━━━━━━━━━━━━━━━━━━━\u001b[0m\u001b[37m\u001b[0m \u001b[1m4s\u001b[0m 107ms/step - loss: 1.3418e-05 - val_loss: 9.4700e-04\n",
      "Epoch 65/100\n",
      "\u001b[1m34/34\u001b[0m \u001b[32m━━━━━━━━━━━━━━━━━━━━\u001b[0m\u001b[37m\u001b[0m \u001b[1m4s\u001b[0m 108ms/step - loss: 1.5878e-05 - val_loss: 3.0717e-04\n",
      "Epoch 66/100\n",
      "\u001b[1m34/34\u001b[0m \u001b[32m━━━━━━━━━━━━━━━━━━━━\u001b[0m\u001b[37m\u001b[0m \u001b[1m4s\u001b[0m 105ms/step - loss: 1.6358e-05 - val_loss: 3.8021e-04\n",
      "Epoch 67/100\n",
      "\u001b[1m34/34\u001b[0m \u001b[32m━━━━━━━━━━━━━━━━━━━━\u001b[0m\u001b[37m\u001b[0m \u001b[1m4s\u001b[0m 111ms/step - loss: 1.4741e-05 - val_loss: 3.4624e-04\n",
      "Epoch 68/100\n",
      "\u001b[1m34/34\u001b[0m \u001b[32m━━━━━━━━━━━━━━━━━━━━\u001b[0m\u001b[37m\u001b[0m \u001b[1m4s\u001b[0m 115ms/step - loss: 1.3109e-05 - val_loss: 3.3412e-04\n",
      "Epoch 69/100\n",
      "\u001b[1m34/34\u001b[0m \u001b[32m━━━━━━━━━━━━━━━━━━━━\u001b[0m\u001b[37m\u001b[0m \u001b[1m4s\u001b[0m 118ms/step - loss: 1.2265e-05 - val_loss: 3.8224e-04\n",
      "Epoch 70/100\n",
      "\u001b[1m34/34\u001b[0m \u001b[32m━━━━━━━━━━━━━━━━━━━━\u001b[0m\u001b[37m\u001b[0m \u001b[1m4s\u001b[0m 110ms/step - loss: 1.0786e-05 - val_loss: 2.9628e-04\n",
      "Epoch 71/100\n",
      "\u001b[1m34/34\u001b[0m \u001b[32m━━━━━━━━━━━━━━━━━━━━\u001b[0m\u001b[37m\u001b[0m \u001b[1m4s\u001b[0m 113ms/step - loss: 1.2850e-05 - val_loss: 3.1116e-04\n",
      "Epoch 72/100\n",
      "\u001b[1m34/34\u001b[0m \u001b[32m━━━━━━━━━━━━━━━━━━━━\u001b[0m\u001b[37m\u001b[0m \u001b[1m4s\u001b[0m 105ms/step - loss: 1.1341e-05 - val_loss: 3.8306e-04\n",
      "Epoch 73/100\n",
      "\u001b[1m34/34\u001b[0m \u001b[32m━━━━━━━━━━━━━━━━━━━━\u001b[0m\u001b[37m\u001b[0m \u001b[1m4s\u001b[0m 109ms/step - loss: 1.2582e-05 - val_loss: 2.8819e-04\n",
      "Epoch 74/100\n",
      "\u001b[1m34/34\u001b[0m \u001b[32m━━━━━━━━━━━━━━━━━━━━\u001b[0m\u001b[37m\u001b[0m \u001b[1m4s\u001b[0m 107ms/step - loss: 1.0898e-05 - val_loss: 2.9090e-04\n",
      "Epoch 75/100\n",
      "\u001b[1m34/34\u001b[0m \u001b[32m━━━━━━━━━━━━━━━━━━━━\u001b[0m\u001b[37m\u001b[0m \u001b[1m4s\u001b[0m 106ms/step - loss: 1.1471e-05 - val_loss: 3.1393e-04\n",
      "Epoch 76/100\n",
      "\u001b[1m34/34\u001b[0m \u001b[32m━━━━━━━━━━━━━━━━━━━━\u001b[0m\u001b[37m\u001b[0m \u001b[1m4s\u001b[0m 104ms/step - loss: 1.2824e-05 - val_loss: 6.8703e-04\n",
      "Epoch 77/100\n",
      "\u001b[1m34/34\u001b[0m \u001b[32m━━━━━━━━━━━━━━━━━━━━\u001b[0m\u001b[37m\u001b[0m \u001b[1m4s\u001b[0m 109ms/step - loss: 1.5296e-05 - val_loss: 3.0142e-04\n",
      "Epoch 78/100\n",
      "\u001b[1m34/34\u001b[0m \u001b[32m━━━━━━━━━━━━━━━━━━━━\u001b[0m\u001b[37m\u001b[0m \u001b[1m4s\u001b[0m 106ms/step - loss: 1.9354e-05 - val_loss: 3.1326e-04\n",
      "Epoch 79/100\n",
      "\u001b[1m34/34\u001b[0m \u001b[32m━━━━━━━━━━━━━━━━━━━━\u001b[0m\u001b[37m\u001b[0m \u001b[1m4s\u001b[0m 107ms/step - loss: 1.1425e-05 - val_loss: 7.5375e-04\n",
      "Epoch 80/100\n",
      "\u001b[1m34/34\u001b[0m \u001b[32m━━━━━━━━━━━━━━━━━━━━\u001b[0m\u001b[37m\u001b[0m \u001b[1m4s\u001b[0m 107ms/step - loss: 1.6478e-05 - val_loss: 2.9790e-04\n",
      "Epoch 81/100\n",
      "\u001b[1m34/34\u001b[0m \u001b[32m━━━━━━━━━━━━━━━━━━━━\u001b[0m\u001b[37m\u001b[0m \u001b[1m4s\u001b[0m 116ms/step - loss: 1.6088e-05 - val_loss: 2.6558e-04\n",
      "Epoch 82/100\n",
      "\u001b[1m34/34\u001b[0m \u001b[32m━━━━━━━━━━━━━━━━━━━━\u001b[0m\u001b[37m\u001b[0m \u001b[1m4s\u001b[0m 114ms/step - loss: 1.0288e-05 - val_loss: 3.6961e-04\n",
      "Epoch 83/100\n",
      "\u001b[1m34/34\u001b[0m \u001b[32m━━━━━━━━━━━━━━━━━━━━\u001b[0m\u001b[37m\u001b[0m \u001b[1m4s\u001b[0m 115ms/step - loss: 1.2729e-05 - val_loss: 2.5571e-04\n",
      "Epoch 84/100\n",
      "\u001b[1m34/34\u001b[0m \u001b[32m━━━━━━━━━━━━━━━━━━━━\u001b[0m\u001b[37m\u001b[0m \u001b[1m4s\u001b[0m 108ms/step - loss: 1.3219e-05 - val_loss: 3.4377e-04\n",
      "Epoch 85/100\n",
      "\u001b[1m34/34\u001b[0m \u001b[32m━━━━━━━━━━━━━━━━━━━━\u001b[0m\u001b[37m\u001b[0m \u001b[1m4s\u001b[0m 114ms/step - loss: 1.0215e-05 - val_loss: 2.7917e-04\n",
      "Epoch 86/100\n",
      "\u001b[1m34/34\u001b[0m \u001b[32m━━━━━━━━━━━━━━━━━━━━\u001b[0m\u001b[37m\u001b[0m \u001b[1m4s\u001b[0m 106ms/step - loss: 1.2103e-05 - val_loss: 3.3640e-04\n",
      "Epoch 87/100\n",
      "\u001b[1m34/34\u001b[0m \u001b[32m━━━━━━━━━━━━━━━━━━━━\u001b[0m\u001b[37m\u001b[0m \u001b[1m4s\u001b[0m 108ms/step - loss: 1.1107e-05 - val_loss: 2.6009e-04\n",
      "Epoch 88/100\n",
      "\u001b[1m34/34\u001b[0m \u001b[32m━━━━━━━━━━━━━━━━━━━━\u001b[0m\u001b[37m\u001b[0m \u001b[1m4s\u001b[0m 105ms/step - loss: 9.9234e-06 - val_loss: 2.4288e-04\n",
      "Epoch 89/100\n",
      "\u001b[1m34/34\u001b[0m \u001b[32m━━━━━━━━━━━━━━━━━━━━\u001b[0m\u001b[37m\u001b[0m \u001b[1m4s\u001b[0m 106ms/step - loss: 9.6464e-06 - val_loss: 4.6744e-04\n",
      "Epoch 90/100\n",
      "\u001b[1m34/34\u001b[0m \u001b[32m━━━━━━━━━━━━━━━━━━━━\u001b[0m\u001b[37m\u001b[0m \u001b[1m4s\u001b[0m 110ms/step - loss: 9.9340e-06 - val_loss: 3.3538e-04\n",
      "Epoch 91/100\n",
      "\u001b[1m34/34\u001b[0m \u001b[32m━━━━━━━━━━━━━━━━━━━━\u001b[0m\u001b[37m\u001b[0m \u001b[1m4s\u001b[0m 109ms/step - loss: 1.3829e-05 - val_loss: 4.4337e-04\n",
      "Epoch 92/100\n",
      "\u001b[1m34/34\u001b[0m \u001b[32m━━━━━━━━━━━━━━━━━━━━\u001b[0m\u001b[37m\u001b[0m \u001b[1m4s\u001b[0m 114ms/step - loss: 9.4799e-06 - val_loss: 2.8632e-04\n",
      "Epoch 93/100\n",
      "\u001b[1m34/34\u001b[0m \u001b[32m━━━━━━━━━━━━━━━━━━━━\u001b[0m\u001b[37m\u001b[0m \u001b[1m4s\u001b[0m 114ms/step - loss: 1.1232e-05 - val_loss: 2.5620e-04\n",
      "Epoch 94/100\n",
      "\u001b[1m34/34\u001b[0m \u001b[32m━━━━━━━━━━━━━━━━━━━━\u001b[0m\u001b[37m\u001b[0m \u001b[1m4s\u001b[0m 111ms/step - loss: 8.7790e-06 - val_loss: 5.4391e-04\n",
      "Epoch 95/100\n",
      "\u001b[1m34/34\u001b[0m \u001b[32m━━━━━━━━━━━━━━━━━━━━\u001b[0m\u001b[37m\u001b[0m \u001b[1m4s\u001b[0m 107ms/step - loss: 1.2729e-05 - val_loss: 6.4921e-04\n",
      "Epoch 96/100\n",
      "\u001b[1m34/34\u001b[0m \u001b[32m━━━━━━━━━━━━━━━━━━━━\u001b[0m\u001b[37m\u001b[0m \u001b[1m4s\u001b[0m 108ms/step - loss: 1.0050e-05 - val_loss: 3.5700e-04\n",
      "Epoch 97/100\n",
      "\u001b[1m34/34\u001b[0m \u001b[32m━━━━━━━━━━━━━━━━━━━━\u001b[0m\u001b[37m\u001b[0m \u001b[1m4s\u001b[0m 112ms/step - loss: 1.0015e-05 - val_loss: 2.5701e-04\n",
      "Epoch 98/100\n",
      "\u001b[1m34/34\u001b[0m \u001b[32m━━━━━━━━━━━━━━━━━━━━\u001b[0m\u001b[37m\u001b[0m \u001b[1m4s\u001b[0m 108ms/step - loss: 8.8572e-06 - val_loss: 7.7363e-04\n",
      "Epoch 99/100\n",
      "\u001b[1m34/34\u001b[0m \u001b[32m━━━━━━━━━━━━━━━━━━━━\u001b[0m\u001b[37m\u001b[0m \u001b[1m4s\u001b[0m 116ms/step - loss: 1.0557e-05 - val_loss: 6.6854e-04\n",
      "Epoch 100/100\n",
      "\u001b[1m34/34\u001b[0m \u001b[32m━━━━━━━━━━━━━━━━━━━━\u001b[0m\u001b[37m\u001b[0m \u001b[1m4s\u001b[0m 119ms/step - loss: 1.1367e-05 - val_loss: 2.6949e-04\n"
     ]
    },
    {
     "data": {
      "text/plain": [
       "<keras.src.callbacks.history.History at 0x240421a3c80>"
      ]
     },
     "execution_count": 41,
     "metadata": {},
     "output_type": "execute_result"
    }
   ],
   "source": [
    "model.fit(X_train, y_train, validation_data = (X_test,y_test), epochs=100, batch_size=64, verbose=1)"
   ]
  },
  {
   "cell_type": "markdown",
   "id": "dddd0037-6d3b-416b-a5a9-e75873e18c95",
   "metadata": {},
   "source": [
    "## STEP-4 Predict the test data and plot the output`"
   ]
  },
  {
   "cell_type": "code",
   "execution_count": 43,
   "id": "26a35b6d-94e6-4bd6-b2c4-12769fac0357",
   "metadata": {},
   "outputs": [
    {
     "name": "stdout",
     "output_type": "stream",
     "text": [
      "\u001b[1m67/67\u001b[0m \u001b[32m━━━━━━━━━━━━━━━━━━━━\u001b[0m\u001b[37m\u001b[0m \u001b[1m3s\u001b[0m 31ms/step\n",
      "\u001b[1m35/35\u001b[0m \u001b[32m━━━━━━━━━━━━━━━━━━━━\u001b[0m\u001b[37m\u001b[0m \u001b[1m1s\u001b[0m 22ms/step\n"
     ]
    }
   ],
   "source": [
    "train_predict=model.predict(X_train)\n",
    "test_predict = model.predict(X_test)"
   ]
  },
  {
   "cell_type": "code",
   "execution_count": 44,
   "id": "188d8fa4-1a9b-408c-8af5-22ebfaf736f1",
   "metadata": {},
   "outputs": [],
   "source": [
    "## Transform to original form\n",
    "train_predict = scaler.inverse_transform(train_predict)\n",
    "test_predict = scaler.inverse_transform(test_predict)"
   ]
  },
  {
   "cell_type": "code",
   "execution_count": 45,
   "id": "62d12ce1-a77b-4d5d-8d0b-051253de2863",
   "metadata": {},
   "outputs": [
    {
     "data": {
      "text/plain": [
       "34.89355965414881"
      ]
     },
     "execution_count": 45,
     "metadata": {},
     "output_type": "execute_result"
    }
   ],
   "source": [
    "### Calculate RMSE performance metrics \n",
    "import math\n",
    "from sklearn.metrics import mean_squared_error\n",
    "math.sqrt(mean_squared_error(y_train, train_predict))"
   ]
  },
  {
   "cell_type": "code",
   "execution_count": 46,
   "id": "96330444-59ca-4050-886c-ce4256dbb330",
   "metadata": {},
   "outputs": [
    {
     "data": {
      "text/plain": [
       "164.8968440892929"
      ]
     },
     "execution_count": 46,
     "metadata": {},
     "output_type": "execute_result"
    }
   ],
   "source": [
    "## Test data RMSE\n",
    "math.sqrt(mean_squared_error(y_test, test_predict))"
   ]
  },
  {
   "cell_type": "code",
   "execution_count": 47,
   "id": "564ff043-1701-4aeb-88df-d77e77165bb2",
   "metadata": {},
   "outputs": [
    {
     "data": {
      "image/png": "[encoded data removed]",
      "text/plain": [
       "<Figure size 640x480 with 1 Axes>"
      ]
     },
     "metadata": {},
     "output_type": "display_data"
    }
   ],
   "source": [
    "### Plotting \n",
    "# shift the train predictions for plotting\n",
    "look_back=100\n",
    "trainPredictPlot = np.empty_like(df1)\n",
    "trainPredictPlot[:, :] = np.nan\n",
    "trainPredictPlot[look_back:len(train_predict)+look_back, :] = train_predict\n",
    "# shift test predictions for plotting\n",
    "testPredictPlot = np.empty_like(df1)\n",
    "testPredictPlot[:, :] = np.nan\n",
    "testPredictPlot[len(train_predict)+(look_back*2)+1:len(df1)-1, :] = test_predict\n",
    "# plot baseline and predictions\n",
    "plt.plot(scaler.inverse_transform(df1))\n",
    "plt.plot(trainPredictPlot)\n",
    "plt.plot(testPredictPlot)\n",
    "plt.show()\n"
   ]
  },
  {
   "cell_type": "markdown",
   "id": "5140a37e-08e9-410f-81e0-07585904ba9a",
   "metadata": {},
   "source": [
    "### Green = predicted output\n",
    "### Orange = training set\n",
    "### Blue = overall dataset"
   ]
  },
  {
   "cell_type": "markdown",
   "id": "1c8c5158-863c-4c37-b25b-439715ece672",
   "metadata": {},
   "source": [
    "## STEP-5 Predict the future 30 days and plot the output"
   ]
  },
  {
   "cell_type": "code",
   "execution_count": 91,
   "id": "e7265a38-ec83-43e2-b631-faff15c12d6d",
   "metadata": {},
   "outputs": [
    {
     "data": {
      "text/plain": [
       "1206"
      ]
     },
     "execution_count": 91,
     "metadata": {},
     "output_type": "execute_result"
    }
   ],
   "source": [
    "len(test_data)"
   ]
  },
  {
   "cell_type": "code",
   "execution_count": 95,
   "id": "110fa327-1ea8-45ac-8954-2621a7511e09",
   "metadata": {},
   "outputs": [
    {
     "data": {
      "text/plain": [
       "(1, 100)"
      ]
     },
     "execution_count": 95,
     "metadata": {},
     "output_type": "execute_result"
    }
   ],
   "source": [
    "X_input = test_data[1106:].reshape(1,-1)\n",
    "X_input.shape"
   ]
  },
  {
   "cell_type": "code",
   "execution_count": 97,
   "id": "1c559906-9737-407f-ad06-cafe03c021ff",
   "metadata": {},
   "outputs": [],
   "source": [
    "temp_input = list(X_input)\n",
    "temp_input = temp_input[0].tolist()"
   ]
  },
  {
   "cell_type": "code",
   "execution_count": 107,
   "id": "1216e3c0-b3b4-4b55-abb8-470507800caf",
   "metadata": {
    "scrolled": true
   },
   "outputs": [
    {
     "name": "stdout",
     "output_type": "stream",
     "text": [
      "[0.96830696]\n",
      "101\n",
      "1 day input [0.96154851 0.96536696 0.98445954 0.96043848 0.97362561 0.99076452\n",
      " 0.99262943 0.96625504 0.94538637 0.94596361 0.94440961 0.94907169\n",
      " 0.92034403 0.91568195 0.91776882 0.91901205 0.92149851 0.93606214\n",
      " 0.91954484 0.92620504 0.87918407 0.87012616 0.88162615 0.89712217\n",
      " 0.91013179 0.91585953 0.93246564 0.93446369 0.94778408 0.95368946\n",
      " 0.95297903 0.95573189 0.95524347 0.94694044 0.95719714 0.95870677\n",
      " 0.9624809  0.95564313 0.97029551 0.96678784 0.93912584 0.93060079\n",
      " 0.93739419 0.9304676  0.93086719 0.92731507 0.93863742 0.93912584\n",
      " 0.93792698 0.91048701 0.9125738  0.92989036 0.9662106  0.96323572\n",
      " 0.95555431 0.9595504  0.95511027 0.96021646 0.96141525 0.98454836\n",
      " 0.9543999  0.95693074 0.95200219 0.95701956 0.93433049 0.95244623\n",
      " 0.96918548 0.96696541 0.96034966 0.97700015 0.9883225  0.9791314\n",
      " 0.98077422 0.99342862 1.         0.99724714 0.97460244 0.97375888\n",
      " 0.97748857 0.98632439 0.98752324 0.97167201 0.95306785 0.93974745\n",
      " 0.9357513  0.9421451  0.93890382 0.96003882 0.95773    0.94560839\n",
      " 0.94560839 0.94956011 0.96332454 0.94902731 0.96243653 0.96359094\n",
      " 0.96678784 0.96465659 0.97065073 0.96830696]\n",
      "1 day output [[0.96969646]]\n",
      "2 day input [0.96536696 0.98445954 0.96043848 0.97362561 0.99076452 0.99262943\n",
      " 0.96625504 0.94538637 0.94596361 0.94440961 0.94907169 0.92034403\n",
      " 0.91568195 0.91776882 0.91901205 0.92149851 0.93606214 0.91954484\n",
      " 0.92620504 0.87918407 0.87012616 0.88162615 0.89712217 0.91013179\n",
      " 0.91585953 0.93246564 0.93446369 0.94778408 0.95368946 0.95297903\n",
      " 0.95573189 0.95524347 0.94694044 0.95719714 0.95870677 0.9624809\n",
      " 0.95564313 0.97029551 0.96678784 0.93912584 0.93060079 0.93739419\n",
      " 0.9304676  0.93086719 0.92731507 0.93863742 0.93912584 0.93792698\n",
      " 0.91048701 0.9125738  0.92989036 0.9662106  0.96323572 0.95555431\n",
      " 0.9595504  0.95511027 0.96021646 0.96141525 0.98454836 0.9543999\n",
      " 0.95693074 0.95200219 0.95701956 0.93433049 0.95244623 0.96918548\n",
      " 0.96696541 0.96034966 0.97700015 0.9883225  0.9791314  0.98077422\n",
      " 0.99342862 1.         0.99724714 0.97460244 0.97375888 0.97748857\n",
      " 0.98632439 0.98752324 0.97167201 0.95306785 0.93974745 0.9357513\n",
      " 0.9421451  0.93890382 0.96003882 0.95773    0.94560839 0.94560839\n",
      " 0.94956011 0.96332454 0.94902731 0.96243653 0.96359094 0.96678784\n",
      " 0.96465659 0.97065073 0.96830696 0.96969646]\n",
      "2 day output [[0.9706602]]\n",
      "3 day input [0.98445954 0.96043848 0.97362561 0.99076452 0.99262943 0.96625504\n",
      " 0.94538637 0.94596361 0.94440961 0.94907169 0.92034403 0.91568195\n",
      " 0.91776882 0.91901205 0.92149851 0.93606214 0.91954484 0.92620504\n",
      " 0.87918407 0.87012616 0.88162615 0.89712217 0.91013179 0.91585953\n",
      " 0.93246564 0.93446369 0.94778408 0.95368946 0.95297903 0.95573189\n",
      " 0.95524347 0.94694044 0.95719714 0.95870677 0.9624809  0.95564313\n",
      " 0.97029551 0.96678784 0.93912584 0.93060079 0.93739419 0.9304676\n",
      " 0.93086719 0.92731507 0.93863742 0.93912584 0.93792698 0.91048701\n",
      " 0.9125738  0.92989036 0.9662106  0.96323572 0.95555431 0.9595504\n",
      " 0.95511027 0.96021646 0.96141525 0.98454836 0.9543999  0.95693074\n",
      " 0.95200219 0.95701956 0.93433049 0.95244623 0.96918548 0.96696541\n",
      " 0.96034966 0.97700015 0.9883225  0.9791314  0.98077422 0.99342862\n",
      " 1.         0.99724714 0.97460244 0.97375888 0.97748857 0.98632439\n",
      " 0.98752324 0.97167201 0.95306785 0.93974745 0.9357513  0.9421451\n",
      " 0.93890382 0.96003882 0.95773    0.94560839 0.94560839 0.94956011\n",
      " 0.96332454 0.94902731 0.96243653 0.96359094 0.96678784 0.96465659\n",
      " 0.97065073 0.96830696 0.96969646 0.97066021]\n",
      "3 day output [[0.9717148]]\n",
      "4 day input [0.96043848 0.97362561 0.99076452 0.99262943 0.96625504 0.94538637\n",
      " 0.94596361 0.94440961 0.94907169 0.92034403 0.91568195 0.91776882\n",
      " 0.91901205 0.92149851 0.93606214 0.91954484 0.92620504 0.87918407\n",
      " 0.87012616 0.88162615 0.89712217 0.91013179 0.91585953 0.93246564\n",
      " 0.93446369 0.94778408 0.95368946 0.95297903 0.95573189 0.95524347\n",
      " 0.94694044 0.95719714 0.95870677 0.9624809  0.95564313 0.97029551\n",
      " 0.96678784 0.93912584 0.93060079 0.93739419 0.9304676  0.93086719\n",
      " 0.92731507 0.93863742 0.93912584 0.93792698 0.91048701 0.9125738\n",
      " 0.92989036 0.9662106  0.96323572 0.95555431 0.9595504  0.95511027\n",
      " 0.96021646 0.96141525 0.98454836 0.9543999  0.95693074 0.95200219\n",
      " 0.95701956 0.93433049 0.95244623 0.96918548 0.96696541 0.96034966\n",
      " 0.97700015 0.9883225  0.9791314  0.98077422 0.99342862 1.\n",
      " 0.99724714 0.97460244 0.97375888 0.97748857 0.98632439 0.98752324\n",
      " 0.97167201 0.95306785 0.93974745 0.9357513  0.9421451  0.93890382\n",
      " 0.96003882 0.95773    0.94560839 0.94560839 0.94956011 0.96332454\n",
      " 0.94902731 0.96243653 0.96359094 0.96678784 0.96465659 0.97065073\n",
      " 0.96830696 0.96969646 0.97066021 0.97171479]\n",
      "4 day output [[0.9729543]]\n",
      "5 day input [0.97362561 0.99076452 0.99262943 0.96625504 0.94538637 0.94596361\n",
      " 0.94440961 0.94907169 0.92034403 0.91568195 0.91776882 0.91901205\n",
      " 0.92149851 0.93606214 0.91954484 0.92620504 0.87918407 0.87012616\n",
      " 0.88162615 0.89712217 0.91013179 0.91585953 0.93246564 0.93446369\n",
      " 0.94778408 0.95368946 0.95297903 0.95573189 0.95524347 0.94694044\n",
      " 0.95719714 0.95870677 0.9624809  0.95564313 0.97029551 0.96678784\n",
      " 0.93912584 0.93060079 0.93739419 0.9304676  0.93086719 0.92731507\n",
      " 0.93863742 0.93912584 0.93792698 0.91048701 0.9125738  0.92989036\n",
      " 0.9662106  0.96323572 0.95555431 0.9595504  0.95511027 0.96021646\n",
      " 0.96141525 0.98454836 0.9543999  0.95693074 0.95200219 0.95701956\n",
      " 0.93433049 0.95244623 0.96918548 0.96696541 0.96034966 0.97700015\n",
      " 0.9883225  0.9791314  0.98077422 0.99342862 1.         0.99724714\n",
      " 0.97460244 0.97375888 0.97748857 0.98632439 0.98752324 0.97167201\n",
      " 0.95306785 0.93974745 0.9357513  0.9421451  0.93890382 0.96003882\n",
      " 0.95773    0.94560839 0.94560839 0.94956011 0.96332454 0.94902731\n",
      " 0.96243653 0.96359094 0.96678784 0.96465659 0.97065073 0.96830696\n",
      " 0.96969646 0.97066021 0.97171479 0.97295427]\n",
      "5 day output [[0.97434217]]\n",
      "6 day input [0.99076452 0.99262943 0.96625504 0.94538637 0.94596361 0.94440961\n",
      " 0.94907169 0.92034403 0.91568195 0.91776882 0.91901205 0.92149851\n",
      " 0.93606214 0.91954484 0.92620504 0.87918407 0.87012616 0.88162615\n",
      " 0.89712217 0.91013179 0.91585953 0.93246564 0.93446369 0.94778408\n",
      " 0.95368946 0.95297903 0.95573189 0.95524347 0.94694044 0.95719714\n",
      " 0.95870677 0.9624809  0.95564313 0.97029551 0.96678784 0.93912584\n",
      " 0.93060079 0.93739419 0.9304676  0.93086719 0.92731507 0.93863742\n",
      " 0.93912584 0.93792698 0.91048701 0.9125738  0.92989036 0.9662106\n",
      " 0.96323572 0.95555431 0.9595504  0.95511027 0.96021646 0.96141525\n",
      " 0.98454836 0.9543999  0.95693074 0.95200219 0.95701956 0.93433049\n",
      " 0.95244623 0.96918548 0.96696541 0.96034966 0.97700015 0.9883225\n",
      " 0.9791314  0.98077422 0.99342862 1.         0.99724714 0.97460244\n",
      " 0.97375888 0.97748857 0.98632439 0.98752324 0.97167201 0.95306785\n",
      " 0.93974745 0.9357513  0.9421451  0.93890382 0.96003882 0.95773\n",
      " 0.94560839 0.94560839 0.94956011 0.96332454 0.94902731 0.96243653\n",
      " 0.96359094 0.96678784 0.96465659 0.97065073 0.96830696 0.96969646\n",
      " 0.97066021 0.97171479 0.97295427 0.97434217]\n",
      "6 day output [[0.9758256]]\n",
      "7 day input [0.99262943 0.96625504 0.94538637 0.94596361 0.94440961 0.94907169\n",
      " 0.92034403 0.91568195 0.91776882 0.91901205 0.92149851 0.93606214\n",
      " 0.91954484 0.92620504 0.87918407 0.87012616 0.88162615 0.89712217\n",
      " 0.91013179 0.91585953 0.93246564 0.93446369 0.94778408 0.95368946\n",
      " 0.95297903 0.95573189 0.95524347 0.94694044 0.95719714 0.95870677\n",
      " 0.9624809  0.95564313 0.97029551 0.96678784 0.93912584 0.93060079\n",
      " 0.93739419 0.9304676  0.93086719 0.92731507 0.93863742 0.93912584\n",
      " 0.93792698 0.91048701 0.9125738  0.92989036 0.9662106  0.96323572\n",
      " 0.95555431 0.9595504  0.95511027 0.96021646 0.96141525 0.98454836\n",
      " 0.9543999  0.95693074 0.95200219 0.95701956 0.93433049 0.95244623\n",
      " 0.96918548 0.96696541 0.96034966 0.97700015 0.9883225  0.9791314\n",
      " 0.98077422 0.99342862 1.         0.99724714 0.97460244 0.97375888\n",
      " 0.97748857 0.98632439 0.98752324 0.97167201 0.95306785 0.93974745\n",
      " 0.9357513  0.9421451  0.93890382 0.96003882 0.95773    0.94560839\n",
      " 0.94560839 0.94956011 0.96332454 0.94902731 0.96243653 0.96359094\n",
      " 0.96678784 0.96465659 0.97065073 0.96830696 0.96969646 0.97066021\n",
      " 0.97171479 0.97295427 0.97434217 0.97582561]\n",
      "7 day output [[0.97735476]]\n",
      "8 day input [0.96625504 0.94538637 0.94596361 0.94440961 0.94907169 0.92034403\n",
      " 0.91568195 0.91776882 0.91901205 0.92149851 0.93606214 0.91954484\n",
      " 0.92620504 0.87918407 0.87012616 0.88162615 0.89712217 0.91013179\n",
      " 0.91585953 0.93246564 0.93446369 0.94778408 0.95368946 0.95297903\n",
      " 0.95573189 0.95524347 0.94694044 0.95719714 0.95870677 0.9624809\n",
      " 0.95564313 0.97029551 0.96678784 0.93912584 0.93060079 0.93739419\n",
      " 0.9304676  0.93086719 0.92731507 0.93863742 0.93912584 0.93792698\n",
      " 0.91048701 0.9125738  0.92989036 0.9662106  0.96323572 0.95555431\n",
      " 0.9595504  0.95511027 0.96021646 0.96141525 0.98454836 0.9543999\n",
      " 0.95693074 0.95200219 0.95701956 0.93433049 0.95244623 0.96918548\n",
      " 0.96696541 0.96034966 0.97700015 0.9883225  0.9791314  0.98077422\n",
      " 0.99342862 1.         0.99724714 0.97460244 0.97375888 0.97748857\n",
      " 0.98632439 0.98752324 0.97167201 0.95306785 0.93974745 0.9357513\n",
      " 0.9421451  0.93890382 0.96003882 0.95773    0.94560839 0.94560839\n",
      " 0.94956011 0.96332454 0.94902731 0.96243653 0.96359094 0.96678784\n",
      " 0.96465659 0.97065073 0.96830696 0.96969646 0.97066021 0.97171479\n",
      " 0.97295427 0.97434217 0.97582561 0.97735476]\n",
      "8 day output [[0.97888637]]\n",
      "9 day input [0.94538637 0.94596361 0.94440961 0.94907169 0.92034403 0.91568195\n",
      " 0.91776882 0.91901205 0.92149851 0.93606214 0.91954484 0.92620504\n",
      " 0.87918407 0.87012616 0.88162615 0.89712217 0.91013179 0.91585953\n",
      " 0.93246564 0.93446369 0.94778408 0.95368946 0.95297903 0.95573189\n",
      " 0.95524347 0.94694044 0.95719714 0.95870677 0.9624809  0.95564313\n",
      " 0.97029551 0.96678784 0.93912584 0.93060079 0.93739419 0.9304676\n",
      " 0.93086719 0.92731507 0.93863742 0.93912584 0.93792698 0.91048701\n",
      " 0.9125738  0.92989036 0.9662106  0.96323572 0.95555431 0.9595504\n",
      " 0.95511027 0.96021646 0.96141525 0.98454836 0.9543999  0.95693074\n",
      " 0.95200219 0.95701956 0.93433049 0.95244623 0.96918548 0.96696541\n",
      " 0.96034966 0.97700015 0.9883225  0.9791314  0.98077422 0.99342862\n",
      " 1.         0.99724714 0.97460244 0.97375888 0.97748857 0.98632439\n",
      " 0.98752324 0.97167201 0.95306785 0.93974745 0.9357513  0.9421451\n",
      " 0.93890382 0.96003882 0.95773    0.94560839 0.94560839 0.94956011\n",
      " 0.96332454 0.94902731 0.96243653 0.96359094 0.96678784 0.96465659\n",
      " 0.97065073 0.96830696 0.96969646 0.97066021 0.97171479 0.97295427\n",
      " 0.97434217 0.97582561 0.97735476 0.97888637]\n",
      "9 day output [[0.98038214]]\n",
      "10 day input [0.94596361 0.94440961 0.94907169 0.92034403 0.91568195 0.91776882\n",
      " 0.91901205 0.92149851 0.93606214 0.91954484 0.92620504 0.87918407\n",
      " 0.87012616 0.88162615 0.89712217 0.91013179 0.91585953 0.93246564\n",
      " 0.93446369 0.94778408 0.95368946 0.95297903 0.95573189 0.95524347\n",
      " 0.94694044 0.95719714 0.95870677 0.9624809  0.95564313 0.97029551\n",
      " 0.96678784 0.93912584 0.93060079 0.93739419 0.9304676  0.93086719\n",
      " 0.92731507 0.93863742 0.93912584 0.93792698 0.91048701 0.9125738\n",
      " 0.92989036 0.9662106  0.96323572 0.95555431 0.9595504  0.95511027\n",
      " 0.96021646 0.96141525 0.98454836 0.9543999  0.95693074 0.95200219\n",
      " 0.95701956 0.93433049 0.95244623 0.96918548 0.96696541 0.96034966\n",
      " 0.97700015 0.9883225  0.9791314  0.98077422 0.99342862 1.\n",
      " 0.99724714 0.97460244 0.97375888 0.97748857 0.98632439 0.98752324\n",
      " 0.97167201 0.95306785 0.93974745 0.9357513  0.9421451  0.93890382\n",
      " 0.96003882 0.95773    0.94560839 0.94560839 0.94956011 0.96332454\n",
      " 0.94902731 0.96243653 0.96359094 0.96678784 0.96465659 0.97065073\n",
      " 0.96830696 0.96969646 0.97066021 0.97171479 0.97295427 0.97434217\n",
      " 0.97582561 0.97735476 0.97888637 0.98038214]\n",
      "10 day output [[0.981814]]\n",
      "11 day input [0.94440961 0.94907169 0.92034403 0.91568195 0.91776882 0.91901205\n",
      " 0.92149851 0.93606214 0.91954484 0.92620504 0.87918407 0.87012616\n",
      " 0.88162615 0.89712217 0.91013179 0.91585953 0.93246564 0.93446369\n",
      " 0.94778408 0.95368946 0.95297903 0.95573189 0.95524347 0.94694044\n",
      " 0.95719714 0.95870677 0.9624809  0.95564313 0.97029551 0.96678784\n",
      " 0.93912584 0.93060079 0.93739419 0.9304676  0.93086719 0.92731507\n",
      " 0.93863742 0.93912584 0.93792698 0.91048701 0.9125738  0.92989036\n",
      " 0.9662106  0.96323572 0.95555431 0.9595504  0.95511027 0.96021646\n",
      " 0.96141525 0.98454836 0.9543999  0.95693074 0.95200219 0.95701956\n",
      " 0.93433049 0.95244623 0.96918548 0.96696541 0.96034966 0.97700015\n",
      " 0.9883225  0.9791314  0.98077422 0.99342862 1.         0.99724714\n",
      " 0.97460244 0.97375888 0.97748857 0.98632439 0.98752324 0.97167201\n",
      " 0.95306785 0.93974745 0.9357513  0.9421451  0.93890382 0.96003882\n",
      " 0.95773    0.94560839 0.94560839 0.94956011 0.96332454 0.94902731\n",
      " 0.96243653 0.96359094 0.96678784 0.96465659 0.97065073 0.96830696\n",
      " 0.96969646 0.97066021 0.97171479 0.97295427 0.97434217 0.97582561\n",
      " 0.97735476 0.97888637 0.98038214 0.98181403]\n",
      "11 day output [[0.98316216]]\n",
      "12 day input [0.94907169 0.92034403 0.91568195 0.91776882 0.91901205 0.92149851\n",
      " 0.93606214 0.91954484 0.92620504 0.87918407 0.87012616 0.88162615\n",
      " 0.89712217 0.91013179 0.91585953 0.93246564 0.93446369 0.94778408\n",
      " 0.95368946 0.95297903 0.95573189 0.95524347 0.94694044 0.95719714\n",
      " 0.95870677 0.9624809  0.95564313 0.97029551 0.96678784 0.93912584\n",
      " 0.93060079 0.93739419 0.9304676  0.93086719 0.92731507 0.93863742\n",
      " 0.93912584 0.93792698 0.91048701 0.9125738  0.92989036 0.9662106\n",
      " 0.96323572 0.95555431 0.9595504  0.95511027 0.96021646 0.96141525\n",
      " 0.98454836 0.9543999  0.95693074 0.95200219 0.95701956 0.93433049\n",
      " 0.95244623 0.96918548 0.96696541 0.96034966 0.97700015 0.9883225\n",
      " 0.9791314  0.98077422 0.99342862 1.         0.99724714 0.97460244\n",
      " 0.97375888 0.97748857 0.98632439 0.98752324 0.97167201 0.95306785\n",
      " 0.93974745 0.9357513  0.9421451  0.93890382 0.96003882 0.95773\n",
      " 0.94560839 0.94560839 0.94956011 0.96332454 0.94902731 0.96243653\n",
      " 0.96359094 0.96678784 0.96465659 0.97065073 0.96830696 0.96969646\n",
      " 0.97066021 0.97171479 0.97295427 0.97434217 0.97582561 0.97735476\n",
      " 0.97888637 0.98038214 0.98181403 0.98316216]\n",
      "12 day output [[0.98441523]]\n",
      "13 day input [0.92034403 0.91568195 0.91776882 0.91901205 0.92149851 0.93606214\n",
      " 0.91954484 0.92620504 0.87918407 0.87012616 0.88162615 0.89712217\n",
      " 0.91013179 0.91585953 0.93246564 0.93446369 0.94778408 0.95368946\n",
      " 0.95297903 0.95573189 0.95524347 0.94694044 0.95719714 0.95870677\n",
      " 0.9624809  0.95564313 0.97029551 0.96678784 0.93912584 0.93060079\n",
      " 0.93739419 0.9304676  0.93086719 0.92731507 0.93863742 0.93912584\n",
      " 0.93792698 0.91048701 0.9125738  0.92989036 0.9662106  0.96323572\n",
      " 0.95555431 0.9595504  0.95511027 0.96021646 0.96141525 0.98454836\n",
      " 0.9543999  0.95693074 0.95200219 0.95701956 0.93433049 0.95244623\n",
      " 0.96918548 0.96696541 0.96034966 0.97700015 0.9883225  0.9791314\n",
      " 0.98077422 0.99342862 1.         0.99724714 0.97460244 0.97375888\n",
      " 0.97748857 0.98632439 0.98752324 0.97167201 0.95306785 0.93974745\n",
      " 0.9357513  0.9421451  0.93890382 0.96003882 0.95773    0.94560839\n",
      " 0.94560839 0.94956011 0.96332454 0.94902731 0.96243653 0.96359094\n",
      " 0.96678784 0.96465659 0.97065073 0.96830696 0.96969646 0.97066021\n",
      " 0.97171479 0.97295427 0.97434217 0.97582561 0.97735476 0.97888637\n",
      " 0.98038214 0.98181403 0.98316216 0.98441523]\n",
      "13 day output [[0.9855689]]\n",
      "14 day input [0.91568195 0.91776882 0.91901205 0.92149851 0.93606214 0.91954484\n",
      " 0.92620504 0.87918407 0.87012616 0.88162615 0.89712217 0.91013179\n",
      " 0.91585953 0.93246564 0.93446369 0.94778408 0.95368946 0.95297903\n",
      " 0.95573189 0.95524347 0.94694044 0.95719714 0.95870677 0.9624809\n",
      " 0.95564313 0.97029551 0.96678784 0.93912584 0.93060079 0.93739419\n",
      " 0.9304676  0.93086719 0.92731507 0.93863742 0.93912584 0.93792698\n",
      " 0.91048701 0.9125738  0.92989036 0.9662106  0.96323572 0.95555431\n",
      " 0.9595504  0.95511027 0.96021646 0.96141525 0.98454836 0.9543999\n",
      " 0.95693074 0.95200219 0.95701956 0.93433049 0.95244623 0.96918548\n",
      " 0.96696541 0.96034966 0.97700015 0.9883225  0.9791314  0.98077422\n",
      " 0.99342862 1.         0.99724714 0.97460244 0.97375888 0.97748857\n",
      " 0.98632439 0.98752324 0.97167201 0.95306785 0.93974745 0.9357513\n",
      " 0.9421451  0.93890382 0.96003882 0.95773    0.94560839 0.94560839\n",
      " 0.94956011 0.96332454 0.94902731 0.96243653 0.96359094 0.96678784\n",
      " 0.96465659 0.97065073 0.96830696 0.96969646 0.97066021 0.97171479\n",
      " 0.97295427 0.97434217 0.97582561 0.97735476 0.97888637 0.98038214\n",
      " 0.98181403 0.98316216 0.98441523 0.98556888]\n",
      "14 day output [[0.98662394]]\n",
      "15 day input [0.91776882 0.91901205 0.92149851 0.93606214 0.91954484 0.92620504\n",
      " 0.87918407 0.87012616 0.88162615 0.89712217 0.91013179 0.91585953\n",
      " 0.93246564 0.93446369 0.94778408 0.95368946 0.95297903 0.95573189\n",
      " 0.95524347 0.94694044 0.95719714 0.95870677 0.9624809  0.95564313\n",
      " 0.97029551 0.96678784 0.93912584 0.93060079 0.93739419 0.9304676\n",
      " 0.93086719 0.92731507 0.93863742 0.93912584 0.93792698 0.91048701\n",
      " 0.9125738  0.92989036 0.9662106  0.96323572 0.95555431 0.9595504\n",
      " 0.95511027 0.96021646 0.96141525 0.98454836 0.9543999  0.95693074\n",
      " 0.95200219 0.95701956 0.93433049 0.95244623 0.96918548 0.96696541\n",
      " 0.96034966 0.97700015 0.9883225  0.9791314  0.98077422 0.99342862\n",
      " 1.         0.99724714 0.97460244 0.97375888 0.97748857 0.98632439\n",
      " 0.98752324 0.97167201 0.95306785 0.93974745 0.9357513  0.9421451\n",
      " 0.93890382 0.96003882 0.95773    0.94560839 0.94560839 0.94956011\n",
      " 0.96332454 0.94902731 0.96243653 0.96359094 0.96678784 0.96465659\n",
      " 0.97065073 0.96830696 0.96969646 0.97066021 0.97171479 0.97295427\n",
      " 0.97434217 0.97582561 0.97735476 0.97888637 0.98038214 0.98181403\n",
      " 0.98316216 0.98441523 0.98556888 0.98662394]\n",
      "15 day output [[0.9875839]]\n",
      "16 day input [0.91901205 0.92149851 0.93606214 0.91954484 0.92620504 0.87918407\n",
      " 0.87012616 0.88162615 0.89712217 0.91013179 0.91585953 0.93246564\n",
      " 0.93446369 0.94778408 0.95368946 0.95297903 0.95573189 0.95524347\n",
      " 0.94694044 0.95719714 0.95870677 0.9624809  0.95564313 0.97029551\n",
      " 0.96678784 0.93912584 0.93060079 0.93739419 0.9304676  0.93086719\n",
      " 0.92731507 0.93863742 0.93912584 0.93792698 0.91048701 0.9125738\n",
      " 0.92989036 0.9662106  0.96323572 0.95555431 0.9595504  0.95511027\n",
      " 0.96021646 0.96141525 0.98454836 0.9543999  0.95693074 0.95200219\n",
      " 0.95701956 0.93433049 0.95244623 0.96918548 0.96696541 0.96034966\n",
      " 0.97700015 0.9883225  0.9791314  0.98077422 0.99342862 1.\n",
      " 0.99724714 0.97460244 0.97375888 0.97748857 0.98632439 0.98752324\n",
      " 0.97167201 0.95306785 0.93974745 0.9357513  0.9421451  0.93890382\n",
      " 0.96003882 0.95773    0.94560839 0.94560839 0.94956011 0.96332454\n",
      " 0.94902731 0.96243653 0.96359094 0.96678784 0.96465659 0.97065073\n",
      " 0.96830696 0.96969646 0.97066021 0.97171479 0.97295427 0.97434217\n",
      " 0.97582561 0.97735476 0.97888637 0.98038214 0.98181403 0.98316216\n",
      " 0.98441523 0.98556888 0.98662394 0.98758388]\n",
      "16 day output [[0.98845357]]\n",
      "17 day input [0.92149851 0.93606214 0.91954484 0.92620504 0.87918407 0.87012616\n",
      " 0.88162615 0.89712217 0.91013179 0.91585953 0.93246564 0.93446369\n",
      " 0.94778408 0.95368946 0.95297903 0.95573189 0.95524347 0.94694044\n",
      " 0.95719714 0.95870677 0.9624809  0.95564313 0.97029551 0.96678784\n",
      " 0.93912584 0.93060079 0.93739419 0.9304676  0.93086719 0.92731507\n",
      " 0.93863742 0.93912584 0.93792698 0.91048701 0.9125738  0.92989036\n",
      " 0.9662106  0.96323572 0.95555431 0.9595504  0.95511027 0.96021646\n",
      " 0.96141525 0.98454836 0.9543999  0.95693074 0.95200219 0.95701956\n",
      " 0.93433049 0.95244623 0.96918548 0.96696541 0.96034966 0.97700015\n",
      " 0.9883225  0.9791314  0.98077422 0.99342862 1.         0.99724714\n",
      " 0.97460244 0.97375888 0.97748857 0.98632439 0.98752324 0.97167201\n",
      " 0.95306785 0.93974745 0.9357513  0.9421451  0.93890382 0.96003882\n",
      " 0.95773    0.94560839 0.94560839 0.94956011 0.96332454 0.94902731\n",
      " 0.96243653 0.96359094 0.96678784 0.96465659 0.97065073 0.96830696\n",
      " 0.96969646 0.97066021 0.97171479 0.97295427 0.97434217 0.97582561\n",
      " 0.97735476 0.97888637 0.98038214 0.98181403 0.98316216 0.98441523\n",
      " 0.98556888 0.98662394 0.98758388 0.98845357]\n",
      "17 day output [[0.9892387]]\n",
      "18 day input [0.93606214 0.91954484 0.92620504 0.87918407 0.87012616 0.88162615\n",
      " 0.89712217 0.91013179 0.91585953 0.93246564 0.93446369 0.94778408\n",
      " 0.95368946 0.95297903 0.95573189 0.95524347 0.94694044 0.95719714\n",
      " 0.95870677 0.9624809  0.95564313 0.97029551 0.96678784 0.93912584\n",
      " 0.93060079 0.93739419 0.9304676  0.93086719 0.92731507 0.93863742\n",
      " 0.93912584 0.93792698 0.91048701 0.9125738  0.92989036 0.9662106\n",
      " 0.96323572 0.95555431 0.9595504  0.95511027 0.96021646 0.96141525\n",
      " 0.98454836 0.9543999  0.95693074 0.95200219 0.95701956 0.93433049\n",
      " 0.95244623 0.96918548 0.96696541 0.96034966 0.97700015 0.9883225\n",
      " 0.9791314  0.98077422 0.99342862 1.         0.99724714 0.97460244\n",
      " 0.97375888 0.97748857 0.98632439 0.98752324 0.97167201 0.95306785\n",
      " 0.93974745 0.9357513  0.9421451  0.93890382 0.96003882 0.95773\n",
      " 0.94560839 0.94560839 0.94956011 0.96332454 0.94902731 0.96243653\n",
      " 0.96359094 0.96678784 0.96465659 0.97065073 0.96830696 0.96969646\n",
      " 0.97066021 0.97171479 0.97295427 0.97434217 0.97582561 0.97735476\n",
      " 0.97888637 0.98038214 0.98181403 0.98316216 0.98441523 0.98556888\n",
      " 0.98662394 0.98758388 0.98845357 0.98923868]\n",
      "18 day output [[0.9899435]]\n",
      "19 day input [0.91954484 0.92620504 0.87918407 0.87012616 0.88162615 0.89712217\n",
      " 0.91013179 0.91585953 0.93246564 0.93446369 0.94778408 0.95368946\n",
      " 0.95297903 0.95573189 0.95524347 0.94694044 0.95719714 0.95870677\n",
      " 0.9624809  0.95564313 0.97029551 0.96678784 0.93912584 0.93060079\n",
      " 0.93739419 0.9304676  0.93086719 0.92731507 0.93863742 0.93912584\n",
      " 0.93792698 0.91048701 0.9125738  0.92989036 0.9662106  0.96323572\n",
      " 0.95555431 0.9595504  0.95511027 0.96021646 0.96141525 0.98454836\n",
      " 0.9543999  0.95693074 0.95200219 0.95701956 0.93433049 0.95244623\n",
      " 0.96918548 0.96696541 0.96034966 0.97700015 0.9883225  0.9791314\n",
      " 0.98077422 0.99342862 1.         0.99724714 0.97460244 0.97375888\n",
      " 0.97748857 0.98632439 0.98752324 0.97167201 0.95306785 0.93974745\n",
      " 0.9357513  0.9421451  0.93890382 0.96003882 0.95773    0.94560839\n",
      " 0.94560839 0.94956011 0.96332454 0.94902731 0.96243653 0.96359094\n",
      " 0.96678784 0.96465659 0.97065073 0.96830696 0.96969646 0.97066021\n",
      " 0.97171479 0.97295427 0.97434217 0.97582561 0.97735476 0.97888637\n",
      " 0.98038214 0.98181403 0.98316216 0.98441523 0.98556888 0.98662394\n",
      " 0.98758388 0.98845357 0.98923868 0.9899435 ]\n",
      "19 day output [[0.9905713]]\n",
      "20 day input [0.92620504 0.87918407 0.87012616 0.88162615 0.89712217 0.91013179\n",
      " 0.91585953 0.93246564 0.93446369 0.94778408 0.95368946 0.95297903\n",
      " 0.95573189 0.95524347 0.94694044 0.95719714 0.95870677 0.9624809\n",
      " 0.95564313 0.97029551 0.96678784 0.93912584 0.93060079 0.93739419\n",
      " 0.9304676  0.93086719 0.92731507 0.93863742 0.93912584 0.93792698\n",
      " 0.91048701 0.9125738  0.92989036 0.9662106  0.96323572 0.95555431\n",
      " 0.9595504  0.95511027 0.96021646 0.96141525 0.98454836 0.9543999\n",
      " 0.95693074 0.95200219 0.95701956 0.93433049 0.95244623 0.96918548\n",
      " 0.96696541 0.96034966 0.97700015 0.9883225  0.9791314  0.98077422\n",
      " 0.99342862 1.         0.99724714 0.97460244 0.97375888 0.97748857\n",
      " 0.98632439 0.98752324 0.97167201 0.95306785 0.93974745 0.9357513\n",
      " 0.9421451  0.93890382 0.96003882 0.95773    0.94560839 0.94560839\n",
      " 0.94956011 0.96332454 0.94902731 0.96243653 0.96359094 0.96678784\n",
      " 0.96465659 0.97065073 0.96830696 0.96969646 0.97066021 0.97171479\n",
      " 0.97295427 0.97434217 0.97582561 0.97735476 0.97888637 0.98038214\n",
      " 0.98181403 0.98316216 0.98441523 0.98556888 0.98662394 0.98758388\n",
      " 0.98845357 0.98923868 0.9899435  0.99057132]\n",
      "20 day output [[0.9911249]]\n",
      "21 day input [0.87918407 0.87012616 0.88162615 0.89712217 0.91013179 0.91585953\n",
      " 0.93246564 0.93446369 0.94778408 0.95368946 0.95297903 0.95573189\n",
      " 0.95524347 0.94694044 0.95719714 0.95870677 0.9624809  0.95564313\n",
      " 0.97029551 0.96678784 0.93912584 0.93060079 0.93739419 0.9304676\n",
      " 0.93086719 0.92731507 0.93863742 0.93912584 0.93792698 0.91048701\n",
      " 0.9125738  0.92989036 0.9662106  0.96323572 0.95555431 0.9595504\n",
      " 0.95511027 0.96021646 0.96141525 0.98454836 0.9543999  0.95693074\n",
      " 0.95200219 0.95701956 0.93433049 0.95244623 0.96918548 0.96696541\n",
      " 0.96034966 0.97700015 0.9883225  0.9791314  0.98077422 0.99342862\n",
      " 1.         0.99724714 0.97460244 0.97375888 0.97748857 0.98632439\n",
      " 0.98752324 0.97167201 0.95306785 0.93974745 0.9357513  0.9421451\n",
      " 0.93890382 0.96003882 0.95773    0.94560839 0.94560839 0.94956011\n",
      " 0.96332454 0.94902731 0.96243653 0.96359094 0.96678784 0.96465659\n",
      " 0.97065073 0.96830696 0.96969646 0.97066021 0.97171479 0.97295427\n",
      " 0.97434217 0.97582561 0.97735476 0.97888637 0.98038214 0.98181403\n",
      " 0.98316216 0.98441523 0.98556888 0.98662394 0.98758388 0.98845357\n",
      " 0.98923868 0.9899435  0.99057132 0.99112493]\n",
      "21 day output [[0.99160504]]\n",
      "22 day input [0.87012616 0.88162615 0.89712217 0.91013179 0.91585953 0.93246564\n",
      " 0.93446369 0.94778408 0.95368946 0.95297903 0.95573189 0.95524347\n",
      " 0.94694044 0.95719714 0.95870677 0.9624809  0.95564313 0.97029551\n",
      " 0.96678784 0.93912584 0.93060079 0.93739419 0.9304676  0.93086719\n",
      " 0.92731507 0.93863742 0.93912584 0.93792698 0.91048701 0.9125738\n",
      " 0.92989036 0.9662106  0.96323572 0.95555431 0.9595504  0.95511027\n",
      " 0.96021646 0.96141525 0.98454836 0.9543999  0.95693074 0.95200219\n",
      " 0.95701956 0.93433049 0.95244623 0.96918548 0.96696541 0.96034966\n",
      " 0.97700015 0.9883225  0.9791314  0.98077422 0.99342862 1.\n",
      " 0.99724714 0.97460244 0.97375888 0.97748857 0.98632439 0.98752324\n",
      " 0.97167201 0.95306785 0.93974745 0.9357513  0.9421451  0.93890382\n",
      " 0.96003882 0.95773    0.94560839 0.94560839 0.94956011 0.96332454\n",
      " 0.94902731 0.96243653 0.96359094 0.96678784 0.96465659 0.97065073\n",
      " 0.96830696 0.96969646 0.97066021 0.97171479 0.97295427 0.97434217\n",
      " 0.97582561 0.97735476 0.97888637 0.98038214 0.98181403 0.98316216\n",
      " 0.98441523 0.98556888 0.98662394 0.98758388 0.98845357 0.98923868\n",
      " 0.9899435  0.99057132 0.99112493 0.99160504]\n",
      "22 day output [[0.9920123]]\n",
      "23 day input [0.88162615 0.89712217 0.91013179 0.91585953 0.93246564 0.93446369\n",
      " 0.94778408 0.95368946 0.95297903 0.95573189 0.95524347 0.94694044\n",
      " 0.95719714 0.95870677 0.9624809  0.95564313 0.97029551 0.96678784\n",
      " 0.93912584 0.93060079 0.93739419 0.9304676  0.93086719 0.92731507\n",
      " 0.93863742 0.93912584 0.93792698 0.91048701 0.9125738  0.92989036\n",
      " 0.9662106  0.96323572 0.95555431 0.9595504  0.95511027 0.96021646\n",
      " 0.96141525 0.98454836 0.9543999  0.95693074 0.95200219 0.95701956\n",
      " 0.93433049 0.95244623 0.96918548 0.96696541 0.96034966 0.97700015\n",
      " 0.9883225  0.9791314  0.98077422 0.99342862 1.         0.99724714\n",
      " 0.97460244 0.97375888 0.97748857 0.98632439 0.98752324 0.97167201\n",
      " 0.95306785 0.93974745 0.9357513  0.9421451  0.93890382 0.96003882\n",
      " 0.95773    0.94560839 0.94560839 0.94956011 0.96332454 0.94902731\n",
      " 0.96243653 0.96359094 0.96678784 0.96465659 0.97065073 0.96830696\n",
      " 0.96969646 0.97066021 0.97171479 0.97295427 0.97434217 0.97582561\n",
      " 0.97735476 0.97888637 0.98038214 0.98181403 0.98316216 0.98441523\n",
      " 0.98556888 0.98662394 0.98758388 0.98845357 0.98923868 0.9899435\n",
      " 0.99057132 0.99112493 0.99160504 0.99201232]\n",
      "23 day output [[0.99234647]]\n",
      "24 day input [0.89712217 0.91013179 0.91585953 0.93246564 0.93446369 0.94778408\n",
      " 0.95368946 0.95297903 0.95573189 0.95524347 0.94694044 0.95719714\n",
      " 0.95870677 0.9624809  0.95564313 0.97029551 0.96678784 0.93912584\n",
      " 0.93060079 0.93739419 0.9304676  0.93086719 0.92731507 0.93863742\n",
      " 0.93912584 0.93792698 0.91048701 0.9125738  0.92989036 0.9662106\n",
      " 0.96323572 0.95555431 0.9595504  0.95511027 0.96021646 0.96141525\n",
      " 0.98454836 0.9543999  0.95693074 0.95200219 0.95701956 0.93433049\n",
      " 0.95244623 0.96918548 0.96696541 0.96034966 0.97700015 0.9883225\n",
      " 0.9791314  0.98077422 0.99342862 1.         0.99724714 0.97460244\n",
      " 0.97375888 0.97748857 0.98632439 0.98752324 0.97167201 0.95306785\n",
      " 0.93974745 0.9357513  0.9421451  0.93890382 0.96003882 0.95773\n",
      " 0.94560839 0.94560839 0.94956011 0.96332454 0.94902731 0.96243653\n",
      " 0.96359094 0.96678784 0.96465659 0.97065073 0.96830696 0.96969646\n",
      " 0.97066021 0.97171479 0.97295427 0.97434217 0.97582561 0.97735476\n",
      " 0.97888637 0.98038214 0.98181403 0.98316216 0.98441523 0.98556888\n",
      " 0.98662394 0.98758388 0.98845357 0.98923868 0.9899435  0.99057132\n",
      " 0.99112493 0.99160504 0.99201232 0.99234647]\n",
      "24 day output [[0.99260706]]\n",
      "25 day input [0.91013179 0.91585953 0.93246564 0.93446369 0.94778408 0.95368946\n",
      " 0.95297903 0.95573189 0.95524347 0.94694044 0.95719714 0.95870677\n",
      " 0.9624809  0.95564313 0.97029551 0.96678784 0.93912584 0.93060079\n",
      " 0.93739419 0.9304676  0.93086719 0.92731507 0.93863742 0.93912584\n",
      " 0.93792698 0.91048701 0.9125738  0.92989036 0.9662106  0.96323572\n",
      " 0.95555431 0.9595504  0.95511027 0.96021646 0.96141525 0.98454836\n",
      " 0.9543999  0.95693074 0.95200219 0.95701956 0.93433049 0.95244623\n",
      " 0.96918548 0.96696541 0.96034966 0.97700015 0.9883225  0.9791314\n",
      " 0.98077422 0.99342862 1.         0.99724714 0.97460244 0.97375888\n",
      " 0.97748857 0.98632439 0.98752324 0.97167201 0.95306785 0.93974745\n",
      " 0.9357513  0.9421451  0.93890382 0.96003882 0.95773    0.94560839\n",
      " 0.94560839 0.94956011 0.96332454 0.94902731 0.96243653 0.96359094\n",
      " 0.96678784 0.96465659 0.97065073 0.96830696 0.96969646 0.97066021\n",
      " 0.97171479 0.97295427 0.97434217 0.97582561 0.97735476 0.97888637\n",
      " 0.98038214 0.98181403 0.98316216 0.98441523 0.98556888 0.98662394\n",
      " 0.98758388 0.98845357 0.98923868 0.9899435  0.99057132 0.99112493\n",
      " 0.99160504 0.99201232 0.99234647 0.99260706]\n",
      "25 day output [[0.99279463]]\n",
      "26 day input [0.91585953 0.93246564 0.93446369 0.94778408 0.95368946 0.95297903\n",
      " 0.95573189 0.95524347 0.94694044 0.95719714 0.95870677 0.9624809\n",
      " 0.95564313 0.97029551 0.96678784 0.93912584 0.93060079 0.93739419\n",
      " 0.9304676  0.93086719 0.92731507 0.93863742 0.93912584 0.93792698\n",
      " 0.91048701 0.9125738  0.92989036 0.9662106  0.96323572 0.95555431\n",
      " 0.9595504  0.95511027 0.96021646 0.96141525 0.98454836 0.9543999\n",
      " 0.95693074 0.95200219 0.95701956 0.93433049 0.95244623 0.96918548\n",
      " 0.96696541 0.96034966 0.97700015 0.9883225  0.9791314  0.98077422\n",
      " 0.99342862 1.         0.99724714 0.97460244 0.97375888 0.97748857\n",
      " 0.98632439 0.98752324 0.97167201 0.95306785 0.93974745 0.9357513\n",
      " 0.9421451  0.93890382 0.96003882 0.95773    0.94560839 0.94560839\n",
      " 0.94956011 0.96332454 0.94902731 0.96243653 0.96359094 0.96678784\n",
      " 0.96465659 0.97065073 0.96830696 0.96969646 0.97066021 0.97171479\n",
      " 0.97295427 0.97434217 0.97582561 0.97735476 0.97888637 0.98038214\n",
      " 0.98181403 0.98316216 0.98441523 0.98556888 0.98662394 0.98758388\n",
      " 0.98845357 0.98923868 0.9899435  0.99057132 0.99112493 0.99160504\n",
      " 0.99201232 0.99234647 0.99260706 0.99279463]\n",
      "26 day output [[0.99290866]]\n",
      "27 day input [0.93246564 0.93446369 0.94778408 0.95368946 0.95297903 0.95573189\n",
      " 0.95524347 0.94694044 0.95719714 0.95870677 0.9624809  0.95564313\n",
      " 0.97029551 0.96678784 0.93912584 0.93060079 0.93739419 0.9304676\n",
      " 0.93086719 0.92731507 0.93863742 0.93912584 0.93792698 0.91048701\n",
      " 0.9125738  0.92989036 0.9662106  0.96323572 0.95555431 0.9595504\n",
      " 0.95511027 0.96021646 0.96141525 0.98454836 0.9543999  0.95693074\n",
      " 0.95200219 0.95701956 0.93433049 0.95244623 0.96918548 0.96696541\n",
      " 0.96034966 0.97700015 0.9883225  0.9791314  0.98077422 0.99342862\n",
      " 1.         0.99724714 0.97460244 0.97375888 0.97748857 0.98632439\n",
      " 0.98752324 0.97167201 0.95306785 0.93974745 0.9357513  0.9421451\n",
      " 0.93890382 0.96003882 0.95773    0.94560839 0.94560839 0.94956011\n",
      " 0.96332454 0.94902731 0.96243653 0.96359094 0.96678784 0.96465659\n",
      " 0.97065073 0.96830696 0.96969646 0.97066021 0.97171479 0.97295427\n",
      " 0.97434217 0.97582561 0.97735476 0.97888637 0.98038214 0.98181403\n",
      " 0.98316216 0.98441523 0.98556888 0.98662394 0.98758388 0.98845357\n",
      " 0.98923868 0.9899435  0.99057132 0.99112493 0.99160504 0.99201232\n",
      " 0.99234647 0.99260706 0.99279463 0.99290866]\n",
      "27 day output [[0.9929506]]\n",
      "28 day input [0.93446369 0.94778408 0.95368946 0.95297903 0.95573189 0.95524347\n",
      " 0.94694044 0.95719714 0.95870677 0.9624809  0.95564313 0.97029551\n",
      " 0.96678784 0.93912584 0.93060079 0.93739419 0.9304676  0.93086719\n",
      " 0.92731507 0.93863742 0.93912584 0.93792698 0.91048701 0.9125738\n",
      " 0.92989036 0.9662106  0.96323572 0.95555431 0.9595504  0.95511027\n",
      " 0.96021646 0.96141525 0.98454836 0.9543999  0.95693074 0.95200219\n",
      " 0.95701956 0.93433049 0.95244623 0.96918548 0.96696541 0.96034966\n",
      " 0.97700015 0.9883225  0.9791314  0.98077422 0.99342862 1.\n",
      " 0.99724714 0.97460244 0.97375888 0.97748857 0.98632439 0.98752324\n",
      " 0.97167201 0.95306785 0.93974745 0.9357513  0.9421451  0.93890382\n",
      " 0.96003882 0.95773    0.94560839 0.94560839 0.94956011 0.96332454\n",
      " 0.94902731 0.96243653 0.96359094 0.96678784 0.96465659 0.97065073\n",
      " 0.96830696 0.96969646 0.97066021 0.97171479 0.97295427 0.97434217\n",
      " 0.97582561 0.97735476 0.97888637 0.98038214 0.98181403 0.98316216\n",
      " 0.98441523 0.98556888 0.98662394 0.98758388 0.98845357 0.98923868\n",
      " 0.9899435  0.99057132 0.99112493 0.99160504 0.99201232 0.99234647\n",
      " 0.99260706 0.99279463 0.99290866 0.99295062]\n",
      "28 day output [[0.99292105]]\n",
      "29 day input [0.94778408 0.95368946 0.95297903 0.95573189 0.95524347 0.94694044\n",
      " 0.95719714 0.95870677 0.9624809  0.95564313 0.97029551 0.96678784\n",
      " 0.93912584 0.93060079 0.93739419 0.9304676  0.93086719 0.92731507\n",
      " 0.93863742 0.93912584 0.93792698 0.91048701 0.9125738  0.92989036\n",
      " 0.9662106  0.96323572 0.95555431 0.9595504  0.95511027 0.96021646\n",
      " 0.96141525 0.98454836 0.9543999  0.95693074 0.95200219 0.95701956\n",
      " 0.93433049 0.95244623 0.96918548 0.96696541 0.96034966 0.97700015\n",
      " 0.9883225  0.9791314  0.98077422 0.99342862 1.         0.99724714\n",
      " 0.97460244 0.97375888 0.97748857 0.98632439 0.98752324 0.97167201\n",
      " 0.95306785 0.93974745 0.9357513  0.9421451  0.93890382 0.96003882\n",
      " 0.95773    0.94560839 0.94560839 0.94956011 0.96332454 0.94902731\n",
      " 0.96243653 0.96359094 0.96678784 0.96465659 0.97065073 0.96830696\n",
      " 0.96969646 0.97066021 0.97171479 0.97295427 0.97434217 0.97582561\n",
      " 0.97735476 0.97888637 0.98038214 0.98181403 0.98316216 0.98441523\n",
      " 0.98556888 0.98662394 0.98758388 0.98845357 0.98923868 0.9899435\n",
      " 0.99057132 0.99112493 0.99160504 0.99201232 0.99234647 0.99260706\n",
      " 0.99279463 0.99290866 0.99295062 0.99292105]\n",
      "29 day output [[0.9928221]]\n",
      "[[0.9683069586753845], [0.9696964621543884], [0.9706602096557617], [0.9717147946357727], [0.972954273223877], [0.9743421673774719], [0.9758256077766418], [0.9773547649383545], [0.9788863658905029], [0.9803821444511414], [0.9818140268325806], [0.9831621646881104], [0.9844152331352234], [0.9855688810348511], [0.9866239428520203], [0.9875838756561279], [0.9884535670280457], [0.9892386794090271], [0.9899435043334961], [0.9905713200569153], [0.9911249279975891], [0.9916050434112549], [0.9920123219490051], [0.992346465587616], [0.992607057094574], [0.9927946329116821], [0.9929086565971375], [0.9929506182670593], [0.9929210543632507], [0.9928221106529236]]\n"
     ]
    }
   ],
   "source": [
    "# demonstrate prediction for next 10 days\n",
    "from numpy import array\n",
    "\n",
    "lst_output=[]\n",
    "n_steps=100\n",
    "i=0\n",
    "while(i<30):\n",
    "    \n",
    "    if(len(temp_input)>100):\n",
    "        #print(temp_input)\n",
    "        X_input=np.array(temp_input[1:])\n",
    "        print(\"{} day input {}\".format(i,X_input))\n",
    "        X_input=X_input.reshape(1,-1)\n",
    "        X_input = X_input.reshape((1, n_steps, 1))\n",
    "        #print(X_input)\n",
    "        yhat = model.predict(X_input, verbose=0)\n",
    "        print(\"{} day output {}\".format(i,yhat))\n",
    "        temp_input.extend(yhat[0].tolist())\n",
    "        temp_input=temp_input[1:]\n",
    "        #print(temp_input)\n",
    "        lst_output.extend(yhat.tolist())\n",
    "        i=i+1\n",
    "    else:\n",
    "        X_input = X_input.reshape((1, n_steps,1))\n",
    "        yhat = model.predict(X_input, verbose=0)\n",
    "        print(yhat[0])\n",
    "        temp_input.extend(yhat[0].tolist())\n",
    "        print(len(temp_input))\n",
    "        lst_output.extend(yhat.tolist())\n",
    "        i=i+1\n",
    "    \n",
    "\n",
    "print(lst_output)"
   ]
  },
  {
   "cell_type": "code",
   "execution_count": 109,
   "id": "48e92c49-e5a2-4e2a-ab1f-fecce7633737",
   "metadata": {},
   "outputs": [],
   "source": [
    "day_new=np.arange(1,101)\n",
    "day_pred=np.arange(101,131)"
   ]
  },
  {
   "cell_type": "code",
   "execution_count": 111,
   "id": "d6388c99-0fd5-4353-8acb-0dd021890d8c",
   "metadata": {},
   "outputs": [
    {
     "data": {
      "text/plain": [
       "3444"
      ]
     },
     "execution_count": 111,
     "metadata": {},
     "output_type": "execute_result"
    }
   ],
   "source": [
    "len(df1)"
   ]
  },
  {
   "cell_type": "code",
   "execution_count": 113,
   "id": "bedb8195-c5f9-4ea6-b768-f2f2a7265f96",
   "metadata": {},
   "outputs": [
    {
     "data": {
      "text/plain": [
       "[<matplotlib.lines.Line2D at 0x2404f7fe4b0>]"
      ]
     },
     "execution_count": 113,
     "metadata": {},
     "output_type": "execute_result"
    },
    {
     "data": {
      "image/png": "[encoded data removed]",
      "text/plain": [
       "<Figure size 640x480 with 1 Axes>"
      ]
     },
     "metadata": {},
     "output_type": "display_data"
    }
   ],
   "source": [
    "plt.plot(day_new,scaler.inverse_transform(df1[3344:]))\n",
    "plt.plot(day_pred,scaler.inverse_transform(lst_output))"
   ]
  },
  {
   "cell_type": "code",
   "execution_count": 115,
   "id": "196cac0f-26b6-4f1e-870a-040bfb538e69",
   "metadata": {},
   "outputs": [
    {
     "data": {
      "text/plain": [
       "[<matplotlib.lines.Line2D at 0x2404f77a420>]"
      ]
     },
     "execution_count": 115,
     "metadata": {},
     "output_type": "execute_result"
    },
    {
     "data": {
      "image/png": "[encoded data removed]",
      "text/plain": [
       "<Figure size 640x480 with 1 Axes>"
      ]
     },
     "metadata": {},
     "output_type": "display_data"
    }
   ],
   "source": [
    "df3=df1.tolist()\n",
    "df3.extend(lst_output)\n",
    "plt.plot(df3[3400:])"
   ]
  },
  {
   "cell_type": "code",
   "execution_count": 117,
   "id": "e736ce75-4a7f-44a4-954f-80641c67eb57",
   "metadata": {},
   "outputs": [],
   "source": [
    "df3=scaler.inverse_transform(df3).tolist()"
   ]
  },
  {
   "cell_type": "code",
   "execution_count": 119,
   "id": "d49cbdad-1cc6-48bb-8fe9-7e8f10b3eb29",
   "metadata": {},
   "outputs": [
    {
     "data": {
      "text/plain": [
       "[<matplotlib.lines.Line2D at 0x2404f990410>]"
      ]
     },
     "execution_count": 119,
     "metadata": {},
     "output_type": "execute_result"
    },
    {
     "data": {
      "image/png": "[encoded data removed]",
      "text/plain": [
       "<Figure size 640x480 with 1 Axes>"
      ]
     },
     "metadata": {},
     "output_type": "display_data"
    }
   ],
   "source": [
    "plt.plot(df3)"
   ]
  },
  {
   "cell_type": "code",
   "execution_count": null,
   "id": "b48ee4ad-1519-4d56-b427-c540cf44c9eb",
   "metadata": {},
   "outputs": [],
   "source": []
  }
 ],
 "metadata": {
  "kernelspec": {
   "display_name": "Python 3 (ipykernel)",
   "language": "python",
   "name": "python3"
  },
  "language_info": {
   "codemirror_mode": {
    "name": "ipython",
    "version": 3
   },
   "file_extension": ".py",
   "mimetype": "text/x-python",
   "name": "python",
   "nbconvert_exporter": "python",
   "pygments_lexer": "ipython3",
   "version": "3.12.3"
  }
 },
 "nbformat": 4,
 "nbformat_minor": 5
}
